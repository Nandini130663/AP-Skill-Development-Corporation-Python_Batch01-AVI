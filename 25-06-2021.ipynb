{
 "cells": [
  {
   "cell_type": "markdown",
   "metadata": {},
   "source": [
    "## Control statements/Iterations/Loops\n",
    "\n",
    "- for\n",
    "- while\n",
    "- nested for\n",
    "- nested while"
   ]
  },
  {
   "cell_type": "markdown",
   "metadata": {},
   "source": [
    "- for loop\n",
    "    - Which is used to execute a particular task or block of code into multiple times\n",
    "- Syntax:\n",
    "    \n",
    "    for variable in range(start,end,step):\n",
    "        statements/logic"
   ]
  },
  {
   "cell_type": "code",
   "execution_count": 2,
   "metadata": {},
   "outputs": [
    {
     "name": "stdout",
     "output_type": "stream",
     "text": [
      "APSSDC\n",
      "APSSDC\n",
      "APSSDC\n",
      "APSSDC\n",
      "APSSDC\n"
     ]
    }
   ],
   "source": [
    "print('APSSDC')\n",
    "print('APSSDC')\n",
    "print('APSSDC')\n",
    "print('APSSDC')\n",
    "print('APSSDC')"
   ]
  },
  {
   "cell_type": "code",
   "execution_count": 3,
   "metadata": {},
   "outputs": [
    {
     "name": "stdout",
     "output_type": "stream",
     "text": [
      "1\n",
      "2\n",
      "3\n",
      "4\n",
      "5\n",
      "6\n",
      "7\n",
      "8\n",
      "9\n"
     ]
    }
   ],
   "source": [
    "## 1-- 10 numbers\n",
    "\n",
    "for i in range(1,10,1):\n",
    "    print(i)"
   ]
  },
  {
   "cell_type": "code",
   "execution_count": 4,
   "metadata": {},
   "outputs": [
    {
     "name": "stdout",
     "output_type": "stream",
     "text": [
      "1\n",
      "2\n",
      "3\n",
      "4\n",
      "5\n",
      "6\n",
      "7\n",
      "8\n",
      "9\n"
     ]
    }
   ],
   "source": [
    "for i in range(1,10):\n",
    "    print(i)"
   ]
  },
  {
   "cell_type": "code",
   "execution_count": 8,
   "metadata": {},
   "outputs": [
    {
     "name": "stdout",
     "output_type": "stream",
     "text": [
      "0 1 2 3 4 5 6 7 8 9 "
     ]
    }
   ],
   "source": [
    "for i in range(10):\n",
    "    print(i,end=\" \")"
   ]
  },
  {
   "cell_type": "code",
   "execution_count": 9,
   "metadata": {},
   "outputs": [
    {
     "name": "stdout",
     "output_type": "stream",
     "text": [
      "1 3 5 7 9 "
     ]
    }
   ],
   "source": [
    "for i in range(1,10,2):\n",
    "    print(i,end=' ')"
   ]
  },
  {
   "cell_type": "code",
   "execution_count": 10,
   "metadata": {},
   "outputs": [
    {
     "name": "stdout",
     "output_type": "stream",
     "text": [
      "10 9 8 7 6 5 4 3 2 1 "
     ]
    }
   ],
   "source": [
    "for i in range(10,0,-1):\n",
    "    print(i,end=' ')"
   ]
  },
  {
   "cell_type": "code",
   "execution_count": 12,
   "metadata": {},
   "outputs": [
    {
     "name": "stdout",
     "output_type": "stream",
     "text": [
      "enter start value: 65\n",
      "enter end value: 70\n",
      "Total sum is:  405\n"
     ]
    }
   ],
   "source": [
    "## sum of n natural numbers\n",
    "\n",
    "sr = int(input('enter start value: ')) # 1\n",
    "er = int(input('enter end value: '))  # 10\n",
    "s = 0\n",
    "for i in range(sr,er+1): ## sr = 1 and er+1 = 11\n",
    "    s = s+i ## s = s+1 == 1 ## s = 1+2 == 3 ## s = 3+3 == 6\n",
    "#   s += i\n",
    "print('Total sum is: ',s)\n",
    "\n"
   ]
  },
  {
   "cell_type": "code",
   "execution_count": 13,
   "metadata": {},
   "outputs": [
    {
     "name": "stdout",
     "output_type": "stream",
     "text": [
      "1 2 3 4 5 6 7 8 9 10 "
     ]
    }
   ],
   "source": [
    "for i in range(1,11):\n",
    "    print(i,end=' ')"
   ]
  },
  {
   "cell_type": "code",
   "execution_count": 20,
   "metadata": {},
   "outputs": [
    {
     "name": "stdout",
     "output_type": "stream",
     "text": [
      "enter start value: 1\n",
      "enter end value: 10\n",
      "Even numbers are: \n",
      "2 4 6 8 10 \n",
      "Odd numbers are: \n",
      "1 3 5 7 9 \n",
      "Even numbers sum is:  30\n",
      "Odd number sum is:  25\n"
     ]
    }
   ],
   "source": [
    "## print even series and odd series\n",
    "## input : 1 -- 10\n",
    "## output: Even numbers are:\n",
    "#          2 4 6 8 10 == 30\n",
    "#          Odd numbers are:\n",
    "#          1 3 5 7 9 == 25\n",
    "\n",
    "s = int(input('enter start value: '))\n",
    "e = int(input('enter end value: '))\n",
    "e_sum = o_sum = 0\n",
    "print('Even numbers are: ')\n",
    "for i in range(s,e+1):\n",
    "    if i%2 == 0:\n",
    "        e_sum += i ## e_sum = e_sum + i\n",
    "        print(i,end=' ')\n",
    "print('\\nOdd numbers are: ')\n",
    "for j in range(s,e+1):\n",
    "    if j%2 == 1:  ## j%2 != 0\n",
    "        o_sum += j  ## o_sum = o_sum + j\n",
    "        print(j,end=' ')\n",
    "print('\\nEven numbers sum is: ',e_sum)\n",
    "print('Odd number sum is: ',o_sum)\n",
    "\n",
    "        \n",
    "    \n",
    "    \n"
   ]
  },
  {
   "cell_type": "code",
   "execution_count": 22,
   "metadata": {},
   "outputs": [
    {
     "name": "stdout",
     "output_type": "stream",
     "text": [
      "enter number: 100\n",
      "1 2 4 5 10 20 25 50 100 "
     ]
    }
   ],
   "source": [
    "## print the factors for given input\n",
    "## input: 10\n",
    "## output: Factors are: 1 2 5 10\n",
    "\n",
    "n = int(input('enter number: '))\n",
    "for k in range(1,n+1): ## 1, 11\n",
    "    if n%k == 0:\n",
    "        print(k,end=' ')\n",
    "    \n",
    "    "
   ]
  },
  {
   "cell_type": "code",
   "execution_count": 25,
   "metadata": {},
   "outputs": [
    {
     "name": "stdout",
     "output_type": "stream",
     "text": [
      "enter number: 7\n",
      "5040\n"
     ]
    }
   ],
   "source": [
    "## Factorial of given number\n",
    "## input: 5\n",
    "## output: 120\n",
    "\n",
    "num = int(input('enter number: '))\n",
    "fact = 1\n",
    "for h in range(1,num+1): ## 1,6 ## 1 2 3 4 5\n",
    "    fact = fact * h ## fact *= h\n",
    "print(fact)\n",
    "    \n"
   ]
  },
  {
   "cell_type": "code",
   "execution_count": 26,
   "metadata": {},
   "outputs": [
    {
     "name": "stdout",
     "output_type": "stream",
     "text": [
      "enter number: 5\n",
      "120\n"
     ]
    }
   ],
   "source": [
    "num = int(input('enter number: '))\n",
    "fact = 1\n",
    "for h in range(num,0,-1): ## 1,6 ## 1 2 3 4 5\n",
    "    fact = fact * h ## fact *= h\n",
    "print(fact)"
   ]
  },
  {
   "cell_type": "code",
   "execution_count": 29,
   "metadata": {},
   "outputs": [
    {
     "name": "stdout",
     "output_type": "stream",
     "text": [
      "enter number: 10\n",
      "Not prime number\n"
     ]
    }
   ],
   "source": [
    "## check the given number is prime or not\n",
    "## input: 5\n",
    "## output: Prime number\n",
    "## input: 62\n",
    "## output: Not prime number\n",
    "\n",
    "x = int(input('enter number: ')) ## 5\n",
    "fc = 0\n",
    "for u in range(1,x+1): ## 1 2 3 4 5\n",
    "    if x%u == 0:\n",
    "        fc = fc + 1 ## fc = 0+1 ,fc = 1  ## fc = 1+1 ,fc = 2\n",
    "if(fc == 2):\n",
    "    print('Prime number')\n",
    "else:\n",
    "    print('Not prime number')\n",
    "    \n",
    "        \n",
    "        \n",
    "    \n"
   ]
  },
  {
   "cell_type": "markdown",
   "metadata": {},
   "source": [
    "## Task\n",
    "- Check the given number is Perfect or not\n",
    "- Print alphabets using for loop\n"
   ]
  },
  {
   "cell_type": "markdown",
   "metadata": {},
   "source": [
    "## While loop\n",
    "\n",
    "- Used to execute a block of code into multiple times\n",
    "\n",
    "- Syntax:\n",
    "     initialization\n",
    "     while(condition):\n",
    "         statements/logic\n",
    "         increment/decrement\n",
    "         \n",
    "- Differences between for and while\n",
    "    - Syntax\n",
    "    - Execution time \n",
    "    - Iterations are unknown\n",
    "   "
   ]
  },
  {
   "cell_type": "code",
   "execution_count": 30,
   "metadata": {},
   "outputs": [
    {
     "name": "stdout",
     "output_type": "stream",
     "text": [
      "1 2 3 4 5 6 7 8 9 10 "
     ]
    }
   ],
   "source": [
    "## 1 -- 10\n",
    "\n",
    "i = 1\n",
    "while(i<=10):# 1<=10 # 2<= 10 # 3<=10 -- 10<=10 ## 11<=10\n",
    "    print(i,end=' ')\n",
    "    i += 1 ## i = i + 1\n",
    "    "
   ]
  },
  {
   "cell_type": "code",
   "execution_count": 32,
   "metadata": {},
   "outputs": [
    {
     "name": "stdout",
     "output_type": "stream",
     "text": [
      "1324345\n",
      "Digit count is:  7\n"
     ]
    }
   ],
   "source": [
    "## Number digits in the given number\n",
    "## input: 678\n",
    "## output: 3\n",
    "\n",
    "n = int(input())\n",
    "d_c = 0\n",
    "while(n!=0):\n",
    "    n = n//10\n",
    "    d_c += 1\n",
    "    \n",
    "print('Digit count is: ',d_c)"
   ]
  },
  {
   "cell_type": "markdown",
   "metadata": {},
   "source": [
    "## Task \n",
    "- Find out digit sum in the given number\n",
    "    - input: 678 6+7+8\n",
    "    - output: 21"
   ]
  },
  {
   "cell_type": "code",
   "execution_count": 33,
   "metadata": {},
   "outputs": [
    {
     "data": {
      "text/plain": [
       "67"
      ]
     },
     "execution_count": 33,
     "metadata": {},
     "output_type": "execute_result"
    }
   ],
   "source": [
    "678//10"
   ]
  },
  {
   "cell_type": "code",
   "execution_count": 34,
   "metadata": {},
   "outputs": [
    {
     "data": {
      "text/plain": [
       "6"
      ]
     },
     "execution_count": 34,
     "metadata": {},
     "output_type": "execute_result"
    }
   ],
   "source": [
    "67//10"
   ]
  },
  {
   "cell_type": "code",
   "execution_count": 35,
   "metadata": {},
   "outputs": [
    {
     "data": {
      "text/plain": [
       "0"
      ]
     },
     "execution_count": 35,
     "metadata": {},
     "output_type": "execute_result"
    }
   ],
   "source": [
    "6//10"
   ]
  },
  {
   "cell_type": "code",
   "execution_count": 37,
   "metadata": {},
   "outputs": [
    {
     "name": "stdout",
     "output_type": "stream",
     "text": [
      "874\n",
      "478\n"
     ]
    }
   ],
   "source": [
    "## Reverse of the given number\n",
    "## input: 874\n",
    "## output: 478\n",
    "\n",
    "n = int(input())\n",
    "rev = 0\n",
    "while(n!=0):\n",
    "    rem = n%10\n",
    "    rev = rev*10+rem\n",
    "    n = n//10\n",
    "print(rev)\n"
   ]
  },
  {
   "cell_type": "markdown",
   "metadata": {},
   "source": [
    "## Palindrome \n",
    "- Check the given number is palindrom or not\n",
    "    - input: 121\n",
    "    - Output: Palindrom"
   ]
  },
  {
   "cell_type": "code",
   "execution_count": 40,
   "metadata": {},
   "outputs": [
    {
     "name": "stdout",
     "output_type": "stream",
     "text": [
      "153\n",
      "Armstrong\n"
     ]
    }
   ],
   "source": [
    "## Check the given number is Armstrong or not\n",
    "## input: 153\n",
    "# output: Armstrong\n",
    "\n",
    "a = int(input())\n",
    "r = 0\n",
    "temp = a\n",
    "while(a!=0):\n",
    "    rem = a%10\n",
    "    r = r+rem*rem*rem\n",
    "    a =a//10\n",
    "    \n",
    "# print(a)\n",
    "\n",
    "if(r == temp): \n",
    "    print('Armstrong')\n",
    "else:\n",
    "    print('Not armstrong')\n"
   ]
  },
  {
   "cell_type": "code",
   "execution_count": null,
   "metadata": {},
   "outputs": [],
   "source": []
  },
  {
   "cell_type": "code",
   "execution_count": null,
   "metadata": {},
   "outputs": [],
   "source": []
  },
  {
   "cell_type": "code",
   "execution_count": null,
   "metadata": {},
   "outputs": [],
   "source": []
  },
  {
   "cell_type": "code",
   "execution_count": null,
   "metadata": {},
   "outputs": [],
   "source": []
  },
  {
   "cell_type": "code",
   "execution_count": null,
   "metadata": {},
   "outputs": [],
   "source": []
  },
  {
   "cell_type": "code",
   "execution_count": null,
   "metadata": {},
   "outputs": [],
   "source": []
  },
  {
   "cell_type": "code",
   "execution_count": null,
   "metadata": {},
   "outputs": [],
   "source": []
  },
  {
   "cell_type": "code",
   "execution_count": null,
   "metadata": {},
   "outputs": [],
   "source": []
  },
  {
   "cell_type": "code",
   "execution_count": null,
   "metadata": {},
   "outputs": [],
   "source": []
  },
  {
   "cell_type": "code",
   "execution_count": null,
   "metadata": {},
   "outputs": [],
   "source": []
  },
  {
   "cell_type": "code",
   "execution_count": null,
   "metadata": {},
   "outputs": [],
   "source": []
  },
  {
   "cell_type": "code",
   "execution_count": null,
   "metadata": {},
   "outputs": [],
   "source": []
  },
  {
   "cell_type": "code",
   "execution_count": null,
   "metadata": {},
   "outputs": [],
   "source": []
  },
  {
   "cell_type": "code",
   "execution_count": null,
   "metadata": {},
   "outputs": [],
   "source": []
  },
  {
   "cell_type": "code",
   "execution_count": null,
   "metadata": {},
   "outputs": [],
   "source": []
  },
  {
   "cell_type": "code",
   "execution_count": null,
   "metadata": {},
   "outputs": [],
   "source": []
  },
  {
   "cell_type": "code",
   "execution_count": null,
   "metadata": {},
   "outputs": [],
   "source": []
  },
  {
   "cell_type": "code",
   "execution_count": null,
   "metadata": {},
   "outputs": [],
   "source": []
  },
  {
   "cell_type": "code",
   "execution_count": null,
   "metadata": {},
   "outputs": [],
   "source": []
  },
  {
   "cell_type": "code",
   "execution_count": null,
   "metadata": {},
   "outputs": [],
   "source": []
  }
 ],
 "metadata": {
  "kernelspec": {
   "display_name": "Python 3",
   "language": "python",
   "name": "python3"
  },
  "language_info": {
   "codemirror_mode": {
    "name": "ipython",
    "version": 3
   },
   "file_extension": ".py",
   "mimetype": "text/x-python",
   "name": "python",
   "nbconvert_exporter": "python",
   "pygments_lexer": "ipython3",
   "version": "3.8.3"
  }
 },
 "nbformat": 4,
 "nbformat_minor": 4
}
