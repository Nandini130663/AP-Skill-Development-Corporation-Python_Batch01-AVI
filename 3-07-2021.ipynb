{
 "cells": [
  {
   "cell_type": "markdown",
   "metadata": {},
   "source": [
    "- File Handling\n",
    "- What is a File?\n",
    "- What is File handling\n",
    "- File methods\n",
    "- Different modes\n",
    "- Use of 'with' statement"
   ]
  },
  {
   "cell_type": "markdown",
   "metadata": {},
   "source": [
    "- File \n",
    "    - File is a named location on disk or memory used to store some information\n",
    "    - ex: .txt,.py,.ipynb,.mp4,.mp3,.jpg,.png,.jpeg...etc\n",
    "\n",
    "- File Handling\n",
    "    - CRUD\n",
    "    - Creating file,Reading file, Updating and delte file\n",
    "\n",
    "- File methods\n",
    "    - Create file\n",
    "    - open file\n",
    "    - WORK\n",
    "    - close file\n",
    "    \n",
    "    - open(filename,mode)\n",
    "    - read(size)/read()\n",
    "    - close()\n",
    "    - write(data)\n",
    "    - readlines()\n",
    "- File objective methods\n",
    "    - tell()\n",
    "        - This method helps us to know the cursor in file\n",
    "    - seek(position_value)\n",
    "        - This method helps us to move the cursor to a particular point in file\n",
    "- File modes\n",
    "    - r --> read (default mode)\n",
    "    - w --> write\n",
    "    - a --> append\n",
    "    - a+ --> append + read\n",
    "    - w+ --> write + read\n",
    "\n",
    "- About With statement\n",
    "    - when you opened a particular file by using with statement at that time no need to mention close method \n",
    "    "
   ]
  },
  {
   "cell_type": "code",
   "execution_count": 3,
   "metadata": {},
   "outputs": [
    {
     "name": "stdout",
     "output_type": "stream",
     "text": [
      "Opened succussfully\n"
     ]
    }
   ],
   "source": [
    "f = open('file.txt','r')\n",
    "if f:\n",
    "    print('Opened succussfully')\n",
    "f.close()"
   ]
  },
  {
   "cell_type": "code",
   "execution_count": 4,
   "metadata": {},
   "outputs": [
    {
     "name": "stdout",
     "output_type": "stream",
     "text": [
      "Good morning everyone...!\n",
      "Welcome to online python workshop\n",
      "Thank you...\n"
     ]
    }
   ],
   "source": [
    "f = open('file.txt')\n",
    "data = f.read()\n",
    "print(data)\n",
    "f.close()"
   ]
  },
  {
   "cell_type": "code",
   "execution_count": 6,
   "metadata": {},
   "outputs": [
    {
     "name": "stdout",
     "output_type": "stream",
     "text": [
      "Good morni\n"
     ]
    }
   ],
   "source": [
    "f = open('file.txt','r')\n",
    "data = f.read(10)\n",
    "print(data)\n",
    "f.close()"
   ]
  },
  {
   "cell_type": "code",
   "execution_count": 8,
   "metadata": {},
   "outputs": [
    {
     "name": "stdout",
     "output_type": "stream",
     "text": [
      "7\n",
      "15\n"
     ]
    }
   ],
   "source": [
    "## file objective methods\n",
    "\n",
    "f = open('file.txt')\n",
    "data = f.read(7)\n",
    "print(f.tell())\n",
    "f.seek(15)\n",
    "print(f.tell())\n",
    "f.close()"
   ]
  },
  {
   "cell_type": "code",
   "execution_count": 9,
   "metadata": {},
   "outputs": [],
   "source": [
    "with open('file.txt','a') as f:\n",
    "    f.write('\\nNow we are discussing append mode')"
   ]
  },
  {
   "cell_type": "code",
   "execution_count": 10,
   "metadata": {},
   "outputs": [],
   "source": [
    "with open('file1.txt','a') as f:\n",
    "    f.write('\\nNow we are discussing append mode')"
   ]
  },
  {
   "cell_type": "code",
   "execution_count": 11,
   "metadata": {},
   "outputs": [],
   "source": [
    "with open('file1.txt','w') as f:\n",
    "    f.write('Thank you..!')"
   ]
  },
  {
   "cell_type": "code",
   "execution_count": 13,
   "metadata": {},
   "outputs": [
    {
     "name": "stdout",
     "output_type": "stream",
     "text": [
      "Good morning everyone...!\n",
      "Welcome to online python workshop\n",
      "Thank you...\n",
      "Now we are discussing append mode\n"
     ]
    }
   ],
   "source": [
    "def readFile(filename):\n",
    "    with open(filename,'r') as f:\n",
    "        filedata = f.read()\n",
    "    return filedata\n",
    "print(readFile('file.txt'))"
   ]
  },
  {
   "cell_type": "code",
   "execution_count": 14,
   "metadata": {},
   "outputs": [
    {
     "name": "stdout",
     "output_type": "stream",
     "text": [
      "4\n"
     ]
    }
   ],
   "source": [
    "## Read lines in a data of file\n",
    "\n",
    "def readLines(filename):\n",
    "    return len(readFile(filename).split('\\n'))\n",
    "\n",
    "print(readLines('file.txt'))\n",
    "\n",
    "\n",
    "    "
   ]
  },
  {
   "cell_type": "code",
   "execution_count": 16,
   "metadata": {},
   "outputs": [
    {
     "name": "stdout",
     "output_type": "stream",
     "text": [
      "['Good', 'morning', 'everyone']\n",
      "3\n"
     ]
    }
   ],
   "source": [
    "s = 'Good morning everyone'\n",
    "res = s.split()\n",
    "print(res)\n",
    "print(len(res))"
   ]
  },
  {
   "cell_type": "code",
   "execution_count": 17,
   "metadata": {},
   "outputs": [
    {
     "data": {
      "text/plain": [
       "16"
      ]
     },
     "execution_count": 17,
     "metadata": {},
     "output_type": "execute_result"
    }
   ],
   "source": [
    "## COunt the number of words in the file\n",
    "\n",
    "def no_words(filename):\n",
    "    c = 0\n",
    "    with open(filename) as f:\n",
    "        filedata = f.readlines()\n",
    "        for line in filedata:\n",
    "            words_list = line.split()\n",
    "            c = c+len(words_list)\n",
    "    return c\n",
    "\n",
    "no_words('file.txt')\n",
    "            \n",
    "            \n",
    "            \n",
    "    "
   ]
  },
  {
   "cell_type": "code",
   "execution_count": 20,
   "metadata": {},
   "outputs": [
    {
     "data": {
      "text/plain": [
       "1"
      ]
     },
     "execution_count": 20,
     "metadata": {},
     "output_type": "execute_result"
    }
   ],
   "source": [
    "## input: (filenem,word)\n",
    "## output: word_count 2\n",
    "\n",
    "def freq_word(filename,word):\n",
    "    c = 0\n",
    "    with open(filename) as f:\n",
    "        filedata = f.readlines()\n",
    "        for line in filedata:\n",
    "            words_list = line.split()\n",
    "            for i in words_list:\n",
    "                if word == i:\n",
    "                    c = c+1\n",
    "    return c\n",
    "freq_word('file.txt','Now')\n",
    "\n",
    "\n",
    "            \n",
    "            "
   ]
  },
  {
   "cell_type": "code",
   "execution_count": 21,
   "metadata": {},
   "outputs": [
    {
     "data": {
      "text/plain": [
       "{'Good': 1,\n",
       " 'morning': 1,\n",
       " 'everyone': 2,\n",
       " '...!': 1,\n",
       " 'Welcome': 1,\n",
       " 'to': 4,\n",
       " 'online': 1,\n",
       " 'python': 1,\n",
       " 'workshop': 1,\n",
       " 'Thank': 1,\n",
       " 'you': 1,\n",
       " '...': 1,\n",
       " 'Now': 1,\n",
       " 'we': 1,\n",
       " 'are': 1,\n",
       " 'discussing': 1,\n",
       " 'append': 1,\n",
       " 'mode': 1}"
      ]
     },
     "execution_count": 21,
     "metadata": {},
     "output_type": "execute_result"
    }
   ],
   "source": [
    "# Good morning everyone...!\n",
    "# Welcome to online python workshop\n",
    "# Thank you...\n",
    "# Now we are discussing append mode\n",
    "\n",
    "# Output:\n",
    "    \n",
    "#     {'Good':1,'morning':1,'everyone':2 ----}\n",
    "\n",
    "def word_freq(filename):\n",
    "    freq_dict = {}\n",
    "    with open(filename) as f:\n",
    "        filedata = f.readlines()\n",
    "        for line in filedata:\n",
    "            words_list = line.split()\n",
    "            for word in words_list:\n",
    "                if word not in freq_dict:\n",
    "                    freq_dict[word] = 1\n",
    "                else:\n",
    "                    freq_dict[word] += 1 ## freq_dict[word] = freq_dict[word] + 1\n",
    "    return freq_dict\n",
    "word_freq('file.txt')\n",
    "                    "
   ]
  },
  {
   "cell_type": "code",
   "execution_count": null,
   "metadata": {},
   "outputs": [],
   "source": []
  }
 ],
 "metadata": {
  "kernelspec": {
   "display_name": "Python 3",
   "language": "python",
   "name": "python3"
  },
  "language_info": {
   "codemirror_mode": {
    "name": "ipython",
    "version": 3
   },
   "file_extension": ".py",
   "mimetype": "text/x-python",
   "name": "python",
   "nbconvert_exporter": "python",
   "pygments_lexer": "ipython3",
   "version": "3.8.3"
  }
 },
 "nbformat": 4,
 "nbformat_minor": 4
}
