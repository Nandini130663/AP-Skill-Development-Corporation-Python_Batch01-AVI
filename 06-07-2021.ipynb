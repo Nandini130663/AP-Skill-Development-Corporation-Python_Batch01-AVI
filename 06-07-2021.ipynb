{
 "cells": [
  {
   "cell_type": "markdown",
   "metadata": {},
   "source": [
    "## Day Objectives:\n",
    "\n",
    "- Regular Expressions\n",
    "    - Definition\n",
    "    - Metacharacters\n",
    "    - Built-in Methods in RE\n",
    "    - Examples\n",
    "- OOPS"
   ]
  },
  {
   "cell_type": "code",
   "execution_count": 9,
   "metadata": {},
   "outputs": [],
   "source": [
    "import re"
   ]
  },
  {
   "cell_type": "code",
   "execution_count": null,
   "metadata": {},
   "outputs": [],
   "source": [
    "re.method_name(pattern,string_name)"
   ]
  },
  {
   "cell_type": "markdown",
   "metadata": {},
   "source": [
    "ah* ==> a,ah,ahh,ahhh,ah...........,h\n",
    "\n",
    "ah+ ==> ah ahh ahhh\n",
    "\n",
    ".{3}  ==> a,b,c,3,5,),*,abc, a1b2c3\n",
    "\n",
    "[A-Z] ==> 123sd\n",
    "\n",
    "[python|c]  ==> "
   ]
  },
  {
   "cell_type": "code",
   "execution_count": 10,
   "metadata": {},
   "outputs": [
    {
     "data": {
      "text/plain": [
       "'python programming language is a very user friendly language'"
      ]
     },
     "execution_count": 10,
     "metadata": {},
     "output_type": "execute_result"
    }
   ],
   "source": [
    "s = \"python programming language is a very simple language\"\n",
    "s.replace(\"simple\",'user friendly')"
   ]
  },
  {
   "cell_type": "code",
   "execution_count": 56,
   "metadata": {},
   "outputs": [
    {
     "data": {
      "text/plain": [
       "['o', 'a', 'a', 'a', 'e', 'i', 'o', 'u', 'a', 'a']"
      ]
     },
     "execution_count": 56,
     "metadata": {},
     "output_type": "execute_result"
    }
   ],
   "source": [
    "#re.sub(pattern,new string,strin_name,max_replaces)\n",
    "s = \"pyt123@hon ja67v#a 238aeio%ukdj5fk&aj jdfh*937ak2)d6h\"\n",
    "pattern = \"[uaoie]\"\n",
    "re.findall(\"aeiuo\",s)\n",
    "re.findall(pattern,s)"
   ]
  },
  {
   "cell_type": "code",
   "execution_count": 29,
   "metadata": {
    "collapsed": true
   },
   "outputs": [
    {
     "name": "stdout",
     "output_type": "stream",
     "text": [
      "['1', '2', '3', '6', '7', '0', '2', '3', '8', '9', '3', '7']\n",
      "['1', '2', '3', '6', '7', '0', '2', '3', '8', '9', '3', '7']\n"
     ]
    }
   ],
   "source": [
    "print(re.findall('[0-9]',s))\n",
    "print(re.findall('\\d',s))"
   ]
  },
  {
   "cell_type": "code",
   "execution_count": 30,
   "metadata": {
    "collapsed": true
   },
   "outputs": [
    {
     "data": {
      "text/plain": [
       "['y', 't', 'v', 'u']"
      ]
     },
     "execution_count": 30,
     "metadata": {},
     "output_type": "execute_result"
    }
   ],
   "source": [
    "re.findall('[t-z]',s)"
   ]
  },
  {
   "cell_type": "code",
   "execution_count": 31,
   "metadata": {
    "collapsed": true
   },
   "outputs": [
    {
     "data": {
      "text/plain": [
       "[' ', ' ', ' ']"
      ]
     },
     "execution_count": 31,
     "metadata": {},
     "output_type": "execute_result"
    }
   ],
   "source": [
    "re.findall(' ',s)"
   ]
  },
  {
   "cell_type": "code",
   "execution_count": 32,
   "metadata": {
    "collapsed": true
   },
   "outputs": [
    {
     "name": "stdout",
     "output_type": "stream",
     "text": [
      "['p', 'y', 't', '@', 'h', 'o', 'n', ' ', 'j', 'a', 'v', '#', 'a', ' ', 'a', 'e', 'i', 'o', '%', 'u', 'k', 'd', 'j', 'f', 'k', '&', 'a', 'j', ' ', 'j', 'd', 'f', 'h', '*', 'a', 'k', ')', 'd', 'h']\n"
     ]
    }
   ],
   "source": [
    "print(re.findall('\\D',s))"
   ]
  },
  {
   "cell_type": "code",
   "execution_count": 33,
   "metadata": {
    "collapsed": true
   },
   "outputs": [
    {
     "name": "stdout",
     "output_type": "stream",
     "text": [
      "['p', 'y', 't', '1', '2', '3', 'h', 'o', 'n', 'j', 'a', '6', '7', 'v', 'a', '0', '2', '3', '8', 'a', 'e', 'i', 'o', 'u', 'k', 'd', 'j', 'f', 'k', 'a', 'j', 'j', 'd', 'f', 'h', '9', '3', '7', 'a', 'k', 'd', 'h']\n"
     ]
    }
   ],
   "source": [
    "print(re.findall('\\w',s))"
   ]
  },
  {
   "cell_type": "code",
   "execution_count": 34,
   "metadata": {
    "collapsed": true
   },
   "outputs": [
    {
     "name": "stdout",
     "output_type": "stream",
     "text": [
      "['@', ' ', '#', ' ', '%', '&', ' ', '*', ')']\n"
     ]
    }
   ],
   "source": [
    "print(re.findall('\\W',s))"
   ]
  },
  {
   "cell_type": "code",
   "execution_count": 41,
   "metadata": {
    "collapsed": true
   },
   "outputs": [
    {
     "name": "stdout",
     "output_type": "stream",
     "text": [
      "[]\n",
      "['py']\n"
     ]
    }
   ],
   "source": [
    "print(re.findall('\\APy',s))\n",
    "print(re.findall('^py',s))"
   ]
  },
  {
   "cell_type": "code",
   "execution_count": 43,
   "metadata": {
    "collapsed": true
   },
   "outputs": [
    {
     "name": "stdout",
     "output_type": "stream",
     "text": [
      "[' ', ' ', ' ']\n",
      "['p', 'y', 't', '1', '2', '3', '@', 'h', 'o', 'n', 'j', 'a', '6', '7', 'v', '#', 'a', '0', '2', '3', '8', 'a', 'e', 'i', 'o', '%', 'u', 'k', 'd', 'j', 'f', 'k', '&', 'a', 'j', 'j', 'd', 'f', 'h', '*', '9', '3', '7', 'a', 'k', ')', 'd', 'h']\n"
     ]
    }
   ],
   "source": [
    "print(re.findall('\\s',s))\n",
    "print(re.findall('\\S',s))"
   ]
  },
  {
   "cell_type": "code",
   "execution_count": 57,
   "metadata": {
    "collapsed": true
   },
   "outputs": [
    {
     "data": {
      "text/plain": [
       "'pyt123@hon ja67v#a 238aeio%ukdj5fk&aj jdfh*937ak2)d6h'"
      ]
     },
     "execution_count": 57,
     "metadata": {},
     "output_type": "execute_result"
    }
   ],
   "source": [
    "s"
   ]
  },
  {
   "cell_type": "code",
   "execution_count": 60,
   "metadata": {
    "collapsed": true
   },
   "outputs": [
    {
     "name": "stdout",
     "output_type": "stream",
     "text": [
      "[]\n"
     ]
    }
   ],
   "source": [
    "n = re.findall('\\d{4,}',s)\n",
    "print(n)"
   ]
  },
  {
   "cell_type": "code",
   "execution_count": 61,
   "metadata": {},
   "outputs": [
    {
     "data": {
      "text/plain": [
       "'pyt123@hon ja67v#a 238aeio%ukdj5fk&aj jdfh*937ak2)d6h'"
      ]
     },
     "execution_count": 61,
     "metadata": {},
     "output_type": "execute_result"
    }
   ],
   "source": [
    "s"
   ]
  },
  {
   "cell_type": "code",
   "execution_count": 65,
   "metadata": {},
   "outputs": [
    {
     "data": {
      "text/plain": [
       "<re.Match object; span=(10, 11), match=' '>"
      ]
     },
     "execution_count": 65,
     "metadata": {},
     "output_type": "execute_result"
    }
   ],
   "source": [
    "re.search('\\s',s) # space"
   ]
  },
  {
   "cell_type": "code",
   "execution_count": 66,
   "metadata": {},
   "outputs": [
    {
     "data": {
      "text/plain": [
       "<re.Match object; span=(3, 4), match='1'>"
      ]
     },
     "execution_count": 66,
     "metadata": {},
     "output_type": "execute_result"
    }
   ],
   "source": [
    "re.search('\\d',s)  # digit"
   ]
  },
  {
   "cell_type": "code",
   "execution_count": 68,
   "metadata": {
    "scrolled": false
   },
   "outputs": [
    {
     "data": {
      "text/plain": [
       "<re.Match object; span=(8, 9), match='o'>"
      ]
     },
     "execution_count": 68,
     "metadata": {},
     "output_type": "execute_result"
    }
   ],
   "source": [
    "re.search('[aeiou]',s)"
   ]
  },
  {
   "cell_type": "code",
   "execution_count": 71,
   "metadata": {},
   "outputs": [
    {
     "data": {
      "text/plain": [
       "'pyt123@hon ja67v#a 238aeio%ukdj5fk&aj jdfh*937ak2)d6h'"
      ]
     },
     "execution_count": 71,
     "metadata": {},
     "output_type": "execute_result"
    }
   ],
   "source": [
    "s"
   ]
  },
  {
   "cell_type": "code",
   "execution_count": 67,
   "metadata": {
    "collapsed": true
   },
   "outputs": [
    {
     "data": {
      "text/plain": [
       "['pyt123@hon', 'ja67v#a', '238aeio%ukdj5fk&aj', 'jdfh*937ak2)d6h']"
      ]
     },
     "execution_count": 67,
     "metadata": {},
     "output_type": "execute_result"
    }
   ],
   "source": [
    "s.split()"
   ]
  },
  {
   "cell_type": "code",
   "execution_count": 70,
   "metadata": {
    "collapsed": true
   },
   "outputs": [
    {
     "name": "stdout",
     "output_type": "stream",
     "text": [
      "['pyt123@h', 'n j', '67v#', ' 238', '', '', '', '%', 'kdj5fk&', 'j jdfh*937', 'k2)d6h']\n"
     ]
    }
   ],
   "source": [
    "print(re.split('[aeiou]',s))"
   ]
  },
  {
   "cell_type": "code",
   "execution_count": 72,
   "metadata": {
    "collapsed": true
   },
   "outputs": [
    {
     "name": "stdout",
     "output_type": "stream",
     "text": [
      "['pyt', '@hon ja', 'v#a ', 'aeio%ukdj', 'fk&aj jdfh*', 'ak', ')d', 'h']\n"
     ]
    }
   ],
   "source": [
    "print(re.split('\\d+',s))"
   ]
  },
  {
   "cell_type": "code",
   "execution_count": 76,
   "metadata": {},
   "outputs": [
    {
     "name": "stdout",
     "output_type": "stream",
     "text": [
      "pyt @hon ja v#a  aeio%ukdj fk&aj jdfh* ak )d h\n"
     ]
    }
   ],
   "source": [
    "print(re.sub('\\d+',' ',s))"
   ]
  },
  {
   "cell_type": "code",
   "execution_count": 77,
   "metadata": {
    "scrolled": true
   },
   "outputs": [
    {
     "name": "stdout",
     "output_type": "stream",
     "text": [
      "pyt123honja67va238aeioukdj5fkajjdfh937ak2d6h\n"
     ]
    }
   ],
   "source": [
    "print(re.sub('\\W','',s))"
   ]
  },
  {
   "cell_type": "code",
   "execution_count": 78,
   "metadata": {
    "scrolled": false
   },
   "outputs": [
    {
     "name": "stdout",
     "output_type": "stream",
     "text": [
      "pyt123@hon ja67v#a 238aeio%ukdj5fk&aj jdfh*937ak2)d6h\n"
     ]
    }
   ],
   "source": [
    "print(s)"
   ]
  },
  {
   "cell_type": "code",
   "execution_count": 82,
   "metadata": {
    "collapsed": true
   },
   "outputs": [
    {
     "name": "stdout",
     "output_type": "stream",
     "text": [
      "28392878\n",
      "Invalid\n"
     ]
    }
   ],
   "source": [
    "### Phone number validation using Regular expressions\n",
    "## rules: 10 digits\n",
    "## 6789\n",
    "## +91\n",
    "## 0\n",
    "\n",
    "def validate_phonenum(phone_num):\n",
    "    pattern = \"^[6-9][0-9]{9}$|^[0][6-9][0-9]{9}$\"\n",
    "    if re.match(pattern,phone_num):\n",
    "        print(\"Valid\")\n",
    "    else:\n",
    "        print(\"Invalid\")\n",
    "validate_phonenum(input())"
   ]
  },
  {
   "cell_type": "code",
   "execution_count": null,
   "metadata": {},
   "outputs": [],
   "source": []
  },
  {
   "cell_type": "code",
   "execution_count": null,
   "metadata": {},
   "outputs": [],
   "source": []
  },
  {
   "cell_type": "code",
   "execution_count": null,
   "metadata": {},
   "outputs": [],
   "source": []
  },
  {
   "cell_type": "code",
   "execution_count": null,
   "metadata": {},
   "outputs": [],
   "source": []
  }
 ],
 "metadata": {
  "kernelspec": {
   "display_name": "Python 3",
   "language": "python",
   "name": "python3"
  },
  "language_info": {
   "codemirror_mode": {
    "name": "ipython",
    "version": 3
   },
   "file_extension": ".py",
   "mimetype": "text/x-python",
   "name": "python",
   "nbconvert_exporter": "python",
   "pygments_lexer": "ipython3",
   "version": "3.7.6"
  }
 },
 "nbformat": 4,
 "nbformat_minor": 4
}
