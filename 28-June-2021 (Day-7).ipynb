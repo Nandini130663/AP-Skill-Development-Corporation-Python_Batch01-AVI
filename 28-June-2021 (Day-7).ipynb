{
 "cells": [
  {
   "cell_type": "markdown",
   "metadata": {},
   "source": [
    "## Day Objectives:\n",
    "\n",
    "- Strings\n",
    "    - Definition: sequence or characters.\n",
    "- Two type of Data Structures:\n",
    "    - 1. Mutable  DS ==> allows users to change after its declaration.\n",
    "        - list\n",
    "        - sets\n",
    "        - dictionary\n",
    "    - 2. Immutable DS ==> we can't change once it is declared.\n",
    "        - strings\n",
    "        - tuples\n",
    " "
   ]
  },
  {
   "cell_type": "code",
   "execution_count": 17,
   "metadata": {
    "collapsed": true
   },
   "outputs": [
    {
     "name": "stdout",
     "output_type": "stream",
     "text": [
      "welcome to python workshop\n",
      "hi students\n",
      "Conducted by \n",
      "aps\n",
      "sdc\n",
      "welcome to python workshop hi students Conducted by \n",
      "aps\n",
      "sdc\n"
     ]
    }
   ],
   "source": [
    "## string declaration\n",
    "\n",
    "s1 = 'welcome to python workshop'\n",
    "s2 = \"hi students\"\n",
    "s3 = '''Conducted by \n",
    "aps\n",
    "sdc'''\n",
    "\n",
    "print(s1)\n",
    "print(s2)\n",
    "print(s3)\n",
    "\n",
    "# print all the three values in single line\n",
    "print(s1,s2,s3)"
   ]
  },
  {
   "cell_type": "markdown",
   "metadata": {},
   "source": [
    "### String Operations\n",
    "- Concatination\n",
    "- Repetence\n",
    "- Memebership "
   ]
  },
  {
   "cell_type": "code",
   "execution_count": 20,
   "metadata": {
    "collapsed": true
   },
   "outputs": [
    {
     "name": "stdout",
     "output_type": "stream",
     "text": [
      "i'm 25 years old.my name is vansh\n",
      "my name is vansh i'm 25 years old.\n"
     ]
    }
   ],
   "source": [
    "## adding two strings\n",
    "name = \"my name is vansh\"\n",
    "age = \"i'm 25 years old.\"\n",
    "print(age+name)\n",
    "\n",
    "intro = name+' '+age\n",
    "print(intro)"
   ]
  },
  {
   "cell_type": "code",
   "execution_count": 22,
   "metadata": {
    "collapsed": true
   },
   "outputs": [
    {
     "name": "stdout",
     "output_type": "stream",
     "text": [
      "welcome to the session.welcome to the session.welcome to the session.welcome to the session.welcome to the session.welcome to the session.welcome to the session.welcome to the session.welcome to the session.welcome to the session.\n"
     ]
    }
   ],
   "source": [
    "# Repetition\n",
    "s = 'welcome to the session.'\n",
    "# s*4\n",
    "print(s*10)"
   ]
  },
  {
   "cell_type": "code",
   "execution_count": 30,
   "metadata": {
    "collapsed": true
   },
   "outputs": [
    {
     "name": "stdout",
     "output_type": "stream",
     "text": [
      "True\n",
      "True\n",
      "True\n",
      "False\n",
      "False\n"
     ]
    }
   ],
   "source": [
    "## Membership operators: in and not in\n",
    "print('come' in s) # True\n",
    "\n",
    "print('o' in s) # True\n",
    "print('l' in s) # True\n",
    "print('y' in s) # \n",
    "print('these' in s) # False\n",
    "\n",
    "## not in  ==> if the given character or substring present in the\n",
    "##            original string then we will get false otherwise true"
   ]
  },
  {
   "cell_type": "code",
   "execution_count": 34,
   "metadata": {
    "collapsed": true
   },
   "outputs": [
    {
     "data": {
      "text/plain": [
       "True"
      ]
     },
     "execution_count": 34,
     "metadata": {},
     "output_type": "execute_result"
    }
   ],
   "source": [
    "info= 'I\\'m a immortal'\n",
    "\n",
    "'a im' in info\n",
    "\n",
    "'x' not in info"
   ]
  },
  {
   "cell_type": "code",
   "execution_count": null,
   "metadata": {},
   "outputs": [],
   "source": []
  },
  {
   "cell_type": "code",
   "execution_count": null,
   "metadata": {},
   "outputs": [],
   "source": []
  },
  {
   "cell_type": "code",
   "execution_count": null,
   "metadata": {},
   "outputs": [],
   "source": []
  },
  {
   "cell_type": "markdown",
   "metadata": {},
   "source": [
    "## String indexing and Slicing"
   ]
  },
  {
   "cell_type": "code",
   "execution_count": 46,
   "metadata": {
    "collapsed": true
   },
   "outputs": [
    {
     "name": "stdout",
     "output_type": "stream",
     "text": [
      "c o r o n a   v i r u s "
     ]
    }
   ],
   "source": [
    "s2 = \"corona virus\"\n",
    "for i in s2:\n",
    "    print(i,end = \" \")"
   ]
  },
  {
   "cell_type": "code",
   "execution_count": 43,
   "metadata": {
    "collapsed": true
   },
   "outputs": [
    {
     "data": {
      "text/plain": [
       "12"
      ]
     },
     "execution_count": 43,
     "metadata": {},
     "output_type": "execute_result"
    }
   ],
   "source": [
    "## len() ==> used to count the number of characters in a given DS\n",
    "len(s2)"
   ]
  },
  {
   "cell_type": "code",
   "execution_count": 52,
   "metadata": {
    "collapsed": true
   },
   "outputs": [
    {
     "name": "stdout",
     "output_type": "stream",
     "text": [
      "t\n",
      "o\n",
      "o\n",
      "e\n",
      "g\n",
      "g\n"
     ]
    }
   ],
   "source": [
    "a = 'avanthi college'\n",
    "\n",
    "# ds_name[index_number] # it will return the character at the given \n",
    "                        #index position\n",
    "# how to access 't'\n",
    "print(a[4])\n",
    "## 'o'\n",
    "print(a[9])\n",
    "print(a[-6])\n",
    "## last element\n",
    "print(a[-1])\n",
    "\n",
    "## last but-one element\n",
    "print(a[13])\n",
    "print(a[-2])"
   ]
  },
  {
   "cell_type": "code",
   "execution_count": 59,
   "metadata": {
    "collapsed": true
   },
   "outputs": [
    {
     "name": "stdout",
     "output_type": "stream",
     "text": [
      "avan\n",
      "avan\n",
      "avanthi college\n",
      "college\n",
      "college\n"
     ]
    }
   ],
   "source": [
    "## Slicing\n",
    "a = 'avanthi college'\n",
    "# a[start_index:end_index] default values are start = 0 and end = end of the string\n",
    "print(a[0:4]) # avan\n",
    "print(a[:4])\n",
    "print(a[:])\n",
    "print(a[8:]) # college\n",
    "print(a[-7:])\n"
   ]
  },
  {
   "cell_type": "code",
   "execution_count": 66,
   "metadata": {},
   "outputs": [
    {
     "name": "stdout",
     "output_type": "stream",
     "text": [
      "1 3 5 7 9 11 13 15 17 19 21 23 25 27 29 "
     ]
    }
   ],
   "source": [
    "## without using conditional statement\n",
    "for i in range(1,30,2):\n",
    "    print(i,end=' ')"
   ]
  },
  {
   "cell_type": "code",
   "execution_count": 84,
   "metadata": {
    "collapsed": true
   },
   "outputs": [
    {
     "data": {
      "text/plain": [
       "'gimrop'"
      ]
     },
     "execution_count": 84,
     "metadata": {},
     "output_type": "execute_result"
    }
   ],
   "source": [
    "s = \"programming\"\n",
    "# every second character from the string.\n",
    "# s[start:stop:step]\n",
    "# default start = 0\n",
    "# stop = len(s)-1 or end_of_the string\n",
    "# step = 1\n",
    "s[1:4]\n",
    "\n",
    "s[6:8]\n",
    "\n",
    "## pormig\n",
    "s[::2]\n",
    "s[::3] ## pgmn\n",
    "s[1::3]  # rrmg\n",
    "s[::-1]  # 0 end -1\n",
    "\n",
    "s[::-2]"
   ]
  },
  {
   "cell_type": "markdown",
   "metadata": {},
   "source": [
    "### String Methods\n",
    "- Built-in Methods in strings.\n",
    "    - dir(ds_name)"
   ]
  },
  {
   "cell_type": "code",
   "execution_count": 85,
   "metadata": {
    "collapsed": true
   },
   "outputs": [
    {
     "data": {
      "text/plain": [
       "['__add__',\n",
       " '__class__',\n",
       " '__contains__',\n",
       " '__delattr__',\n",
       " '__dir__',\n",
       " '__doc__',\n",
       " '__eq__',\n",
       " '__format__',\n",
       " '__ge__',\n",
       " '__getattribute__',\n",
       " '__getitem__',\n",
       " '__getnewargs__',\n",
       " '__gt__',\n",
       " '__hash__',\n",
       " '__init__',\n",
       " '__init_subclass__',\n",
       " '__iter__',\n",
       " '__le__',\n",
       " '__len__',\n",
       " '__lt__',\n",
       " '__mod__',\n",
       " '__mul__',\n",
       " '__ne__',\n",
       " '__new__',\n",
       " '__reduce__',\n",
       " '__reduce_ex__',\n",
       " '__repr__',\n",
       " '__rmod__',\n",
       " '__rmul__',\n",
       " '__setattr__',\n",
       " '__sizeof__',\n",
       " '__str__',\n",
       " '__subclasshook__',\n",
       " 'capitalize',\n",
       " 'casefold',\n",
       " 'center',\n",
       " 'count',\n",
       " 'encode',\n",
       " 'endswith',\n",
       " 'expandtabs',\n",
       " 'find',\n",
       " 'format',\n",
       " 'format_map',\n",
       " 'index',\n",
       " 'isalnum',\n",
       " 'isalpha',\n",
       " 'isascii',\n",
       " 'isdecimal',\n",
       " 'isdigit',\n",
       " 'isidentifier',\n",
       " 'islower',\n",
       " 'isnumeric',\n",
       " 'isprintable',\n",
       " 'isspace',\n",
       " 'istitle',\n",
       " 'isupper',\n",
       " 'join',\n",
       " 'ljust',\n",
       " 'lower',\n",
       " 'lstrip',\n",
       " 'maketrans',\n",
       " 'partition',\n",
       " 'replace',\n",
       " 'rfind',\n",
       " 'rindex',\n",
       " 'rjust',\n",
       " 'rpartition',\n",
       " 'rsplit',\n",
       " 'rstrip',\n",
       " 'split',\n",
       " 'splitlines',\n",
       " 'startswith',\n",
       " 'strip',\n",
       " 'swapcase',\n",
       " 'title',\n",
       " 'translate',\n",
       " 'upper',\n",
       " 'zfill']"
      ]
     },
     "execution_count": 85,
     "metadata": {},
     "output_type": "execute_result"
    }
   ],
   "source": [
    "dir(str)"
   ]
  },
  {
   "cell_type": "code",
   "execution_count": 90,
   "metadata": {},
   "outputs": [
    {
     "name": "stdout",
     "output_type": "stream",
     "text": [
      "Have a nice day\n",
      "have a nice day\n",
      "HAVE A NICE DAY\n",
      "False\n",
      "Welcome To The Strings Topic\n"
     ]
    }
   ],
   "source": [
    "s = \"hAVe a NiCe dAy\"\n",
    "\n",
    "print(s.capitalize())\n",
    "print(s.lower())\n",
    "print(s.upper())\n",
    "\n",
    "ss = \"Welcome to The Strings topic\"\n",
    "print(ss.istitle())\n",
    "print(ss.title())\n",
    "\n",
    "print(ss.islower()) # true if all the characters are in lowercase."
   ]
  },
  {
   "cell_type": "code",
   "execution_count": null,
   "metadata": {},
   "outputs": [],
   "source": []
  },
  {
   "cell_type": "code",
   "execution_count": null,
   "metadata": {},
   "outputs": [],
   "source": []
  }
 ],
 "metadata": {
  "kernelspec": {
   "display_name": "Python 3",
   "language": "python",
   "name": "python3"
  },
  "language_info": {
   "codemirror_mode": {
    "name": "ipython",
    "version": 3
   },
   "file_extension": ".py",
   "mimetype": "text/x-python",
   "name": "python",
   "nbconvert_exporter": "python",
   "pygments_lexer": "ipython3",
   "version": "3.7.6"
  }
 },
 "nbformat": 4,
 "nbformat_minor": 4
}
