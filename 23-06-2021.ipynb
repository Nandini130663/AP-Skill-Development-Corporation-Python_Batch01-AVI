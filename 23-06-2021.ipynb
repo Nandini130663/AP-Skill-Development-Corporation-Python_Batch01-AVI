{
 "cells": [
  {
   "cell_type": "markdown",
   "metadata": {},
   "source": [
    "## Day objectives\n",
    "\n",
    "- Comments\n",
    "- Variables\n",
    "- Keywords\n",
    "- Operators"
   ]
  },
  {
   "cell_type": "markdown",
   "metadata": {},
   "source": [
    "- Comments\n",
    "    - To hold paritcular lines\n",
    "- Types of comments\n",
    "    - Single line comment (#)\n",
    "    - Multi line comment (\"\"\" code \"\"\")"
   ]
  },
  {
   "cell_type": "code",
   "execution_count": 10,
   "metadata": {},
   "outputs": [
    {
     "name": "stdout",
     "output_type": "stream",
     "text": [
      "hello world\n"
     ]
    }
   ],
   "source": [
    "# print('APSSDC')\n",
    "\"\"\"print('Good morning')\n",
    "print('name')\"\"\"\n",
    "print('hello world')"
   ]
  },
  {
   "cell_type": "markdown",
   "metadata": {},
   "source": [
    "## Variables\n",
    "\n",
    "- Which is used to store values in a specific memeory location\n",
    "\n",
    "- Rules for declaring varaibles\n",
    "    - Variable should not starts with keywords\n",
    "    - Variable should not starts with integers\n",
    "    - Don't give spaces \n",
    "    - Variable should not starts with special symbols\n",
    "    - but it starts only letters&underscore(_)\n",
    "    - Variable should not starts with functions\n",
    "    "
   ]
  },
  {
   "cell_type": "markdown",
   "metadata": {},
   "source": [
    "### Data Types\n",
    "\n",
    "- Data type specifies which type of value a variable.\n",
    "- int (integers)\n",
    "- float (for decimal values)\n",
    "- str (for character or names)"
   ]
  },
  {
   "cell_type": "code",
   "execution_count": 11,
   "metadata": {},
   "outputs": [
    {
     "data": {
      "text/plain": [
       "10"
      ]
     },
     "execution_count": 11,
     "metadata": {},
     "output_type": "execute_result"
    }
   ],
   "source": [
    "n1  = 10\n",
    "n1"
   ]
  },
  {
   "cell_type": "code",
   "execution_count": 12,
   "metadata": {},
   "outputs": [
    {
     "name": "stdout",
     "output_type": "stream",
     "text": [
      "10\n",
      "10\n",
      "10\n"
     ]
    }
   ],
   "source": [
    "n2 = n3 = n4 = n1 ## multi variable assingment with same value\n",
    "print(n2)\n",
    "print(n3)\n",
    "print(n4)"
   ]
  },
  {
   "cell_type": "code",
   "execution_count": 13,
   "metadata": {},
   "outputs": [
    {
     "name": "stdout",
     "output_type": "stream",
     "text": [
      "123 234 456\n"
     ]
    }
   ],
   "source": [
    "a,b,c = 123,234,456 ## multi variable assignment with diff values\n",
    "print(a,b,c)"
   ]
  },
  {
   "cell_type": "markdown",
   "metadata": {},
   "source": [
    "- Keywords\n",
    "    - We can call as reserved words\n",
    "    - keywords cannot used as a varaiblename,function name\n",
    "    "
   ]
  },
  {
   "cell_type": "code",
   "execution_count": 14,
   "metadata": {},
   "outputs": [
    {
     "name": "stdout",
     "output_type": "stream",
     "text": [
      "['False', 'None', 'True', 'and', 'as', 'assert', 'async', 'await', 'break', 'class', 'continue', 'def', 'del', 'elif', 'else', 'except', 'finally', 'for', 'from', 'global', 'if', 'import', 'in', 'is', 'lambda', 'nonlocal', 'not', 'or', 'pass', 'raise', 'return', 'try', 'while', 'with', 'yield']\n"
     ]
    }
   ],
   "source": [
    "import keyword\n",
    "print(keyword.kwlist)"
   ]
  },
  {
   "cell_type": "code",
   "execution_count": 15,
   "metadata": {},
   "outputs": [
    {
     "name": "stdout",
     "output_type": "stream",
     "text": [
      "35\n"
     ]
    }
   ],
   "source": [
    "print(len(keyword.kwlist))"
   ]
  },
  {
   "cell_type": "markdown",
   "metadata": {},
   "source": [
    "### Type casting\n",
    "\n",
    "- Changing one kind of data type into another kind of data type"
   ]
  },
  {
   "cell_type": "code",
   "execution_count": 21,
   "metadata": {},
   "outputs": [
    {
     "data": {
      "text/plain": [
       "int"
      ]
     },
     "execution_count": 21,
     "metadata": {},
     "output_type": "execute_result"
    }
   ],
   "source": [
    "a = 12\n",
    "type(s)"
   ]
  },
  {
   "cell_type": "code",
   "execution_count": 20,
   "metadata": {},
   "outputs": [
    {
     "name": "stdout",
     "output_type": "stream",
     "text": [
      "34\n"
     ]
    },
    {
     "data": {
      "text/plain": [
       "int"
      ]
     },
     "execution_count": 20,
     "metadata": {},
     "output_type": "execute_result"
    }
   ],
   "source": [
    "s = int(input())\n",
    "type(s)"
   ]
  },
  {
   "cell_type": "markdown",
   "metadata": {},
   "source": [
    "## Operators\n",
    "\n",
    "- used to perform mathematical operations\n",
    "- Arithmetic operators (+,-,*,%(Modulo division),/,//(floor division),**(power))\n",
    "- Assignment operators(=,+=,-=,*=,/=)\n",
    "- Comarison operators(==, !=, <, >, <=, >=)\n",
    "- Logical operators (and , or , not)\n",
    "- Identity operators(is, is not)\n",
    "- Membership operators( in, not in)\n",
    "- Bitwise operators(&,|,^,<<,>>)\n",
    "\n"
   ]
  },
  {
   "cell_type": "code",
   "execution_count": 26,
   "metadata": {},
   "outputs": [
    {
     "name": "stdout",
     "output_type": "stream",
     "text": [
      "11\n",
      "5\n",
      "24\n",
      "2.6666666666666665\n",
      "2\n",
      "512\n",
      "2\n"
     ]
    }
   ],
   "source": [
    "# Arithmetic operators\n",
    "\n",
    "a = 8\n",
    "b = 3\n",
    "print(a+b)\n",
    "print(a-b)\n",
    "print(a*b)\n",
    "print(a/b)\n",
    "print(a//b)\n",
    "print(a**b) ## 8**3\n",
    "print(a%b)"
   ]
  },
  {
   "cell_type": "code",
   "execution_count": 24,
   "metadata": {},
   "outputs": [
    {
     "data": {
      "text/plain": [
       "8"
      ]
     },
     "execution_count": 24,
     "metadata": {},
     "output_type": "execute_result"
    }
   ],
   "source": [
    "a = 2\n",
    "a**3 ## 2^3"
   ]
  },
  {
   "cell_type": "code",
   "execution_count": 29,
   "metadata": {},
   "outputs": [
    {
     "name": "stdout",
     "output_type": "stream",
     "text": [
      "30\n",
      "10\n",
      "200\n"
     ]
    }
   ],
   "source": [
    "## Assignment operators\n",
    "\n",
    "a = 10\n",
    "b = 20\n",
    "a += b ## a = a+b  a = 10+20\n",
    "print(a)\n",
    "a -= b  ## a = a-b  a = 30-20\n",
    "print(a)\n",
    "a *= b  ## a= 10   ## a = a*b  a = 10*20\n",
    "print(a)"
   ]
  },
  {
   "cell_type": "code",
   "execution_count": 36,
   "metadata": {},
   "outputs": [
    {
     "name": "stdout",
     "output_type": "stream",
     "text": [
      "False\n",
      "True\n",
      "False\n",
      "True\n",
      "False\n"
     ]
    }
   ],
   "source": [
    "# Comarison operators\n",
    "\n",
    "x = 10\n",
    "y = 20\n",
    "print(x == y)  ## 10 == 20\n",
    "print(x < y)  ## 10<20\n",
    "print(x > y)  ## 10>20\n",
    "print(x <= y)  ## 10<=20  ## x = 5 y = 5 \n",
    "print(x >= y) ## 10 >= 20"
   ]
  },
  {
   "cell_type": "code",
   "execution_count": 38,
   "metadata": {},
   "outputs": [
    {
     "name": "stdout",
     "output_type": "stream",
     "text": [
      "False\n",
      "True\n",
      "False\n"
     ]
    }
   ],
   "source": [
    "## Logical operators\n",
    "\n",
    "a = 5\n",
    "print(a>4 and a<5) # 5>4 and 5<5\n",
    "print(a>4 or a<5)  # 5>4 and 5<5 \n",
    "print(not(a>4 or a<5))"
   ]
  },
  {
   "cell_type": "code",
   "execution_count": 42,
   "metadata": {},
   "outputs": [
    {
     "name": "stdout",
     "output_type": "stream",
     "text": [
      "False\n",
      "True\n"
     ]
    }
   ],
   "source": [
    "# Identity operators(is, is not)\n",
    "\n",
    "a = 'Nandini'\n",
    "b = 'nandini'\n",
    "print(a is b)\n",
    "print(a is not b)\n"
   ]
  },
  {
   "cell_type": "code",
   "execution_count": 44,
   "metadata": {},
   "outputs": [
    {
     "name": "stdout",
     "output_type": "stream",
     "text": [
      "True\n",
      "False\n"
     ]
    }
   ],
   "source": [
    "## Membership operators(in not in)\n",
    "\n",
    "a = 'Nandini'\n",
    "print('n' in a)\n",
    "print('d' not in a)\n",
    "\n"
   ]
  },
  {
   "cell_type": "code",
   "execution_count": 45,
   "metadata": {},
   "outputs": [
    {
     "name": "stdout",
     "output_type": "stream",
     "text": [
      "2\n",
      "10\n",
      "8\n"
     ]
    }
   ],
   "source": [
    "## Bitwise operators\n",
    "\n",
    "a = 10  ## 1010 \n",
    "b = 2   ## 0010\n",
    "print(a&b)\n",
    "print(a|b)\n",
    "print(a^b)\n"
   ]
  },
  {
   "cell_type": "code",
   "execution_count": 46,
   "metadata": {},
   "outputs": [
    {
     "data": {
      "text/plain": [
       "20"
      ]
     },
     "execution_count": 46,
     "metadata": {},
     "output_type": "execute_result"
    }
   ],
   "source": [
    "a = 10  ## 1010\n",
    "a<<1 "
   ]
  },
  {
   "cell_type": "code",
   "execution_count": 47,
   "metadata": {},
   "outputs": [
    {
     "name": "stdout",
     "output_type": "stream",
     "text": [
      "14\n"
     ]
    }
   ],
   "source": [
    "## static way of programming\n",
    "\n",
    "\n",
    "a = 10\n",
    "b = 4\n",
    "print(a+b)"
   ]
  },
  {
   "cell_type": "code",
   "execution_count": 50,
   "metadata": {},
   "outputs": [
    {
     "name": "stdout",
     "output_type": "stream",
     "text": [
      "enter first number: 4 \n",
      "enter second number: 8\n",
      "12\n"
     ]
    }
   ],
   "source": [
    "## dynamic way of programming\n",
    "\n",
    "x = int(input('enter first number: '))\n",
    "y = int(input('enter second number: '))\n",
    "print(x+y)\n"
   ]
  },
  {
   "cell_type": "code",
   "execution_count": 52,
   "metadata": {},
   "outputs": [
    {
     "name": "stdout",
     "output_type": "stream",
     "text": [
      "enter number: 5.6\n",
      "enter another number: 8.9\n"
     ]
    },
    {
     "data": {
      "text/plain": [
       "-3.3000000000000007"
      ]
     },
     "execution_count": 52,
     "metadata": {},
     "output_type": "execute_result"
    }
   ],
   "source": [
    "t = float(input('enter number: '))\n",
    "u = float(input('enter another number: '))\n",
    "t - u"
   ]
  },
  {
   "cell_type": "code",
   "execution_count": 54,
   "metadata": {},
   "outputs": [
    {
     "name": "stdout",
     "output_type": "stream",
     "text": [
      "enter nameHello\n",
      "Hello\n",
      "Helloworld\n",
      "worldHello\n",
      "HelloHelloHello\n"
     ]
    }
   ],
   "source": [
    "s = input('enter name')\n",
    "print(s)\n",
    "print(s+'world')\n",
    "print('world'+s)\n",
    "print(s*3)\n"
   ]
  },
  {
   "cell_type": "code",
   "execution_count": null,
   "metadata": {},
   "outputs": [],
   "source": []
  },
  {
   "cell_type": "code",
   "execution_count": null,
   "metadata": {},
   "outputs": [],
   "source": []
  }
 ],
 "metadata": {
  "kernelspec": {
   "display_name": "Python 3",
   "language": "python",
   "name": "python3"
  },
  "language_info": {
   "codemirror_mode": {
    "name": "ipython",
    "version": 3
   },
   "file_extension": ".py",
   "mimetype": "text/x-python",
   "name": "python",
   "nbconvert_exporter": "python",
   "pygments_lexer": "ipython3",
   "version": "3.8.3"
  }
 },
 "nbformat": 4,
 "nbformat_minor": 4
}
