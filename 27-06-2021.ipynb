{
 "cells": [
  {
   "cell_type": "code",
   "execution_count": 14,
   "metadata": {},
   "outputs": [
    {
     "name": "stdout",
     "output_type": "stream",
     "text": [
      "Upper case letters are: \n",
      "A B C D E F G H I J K L M N O P Q R S T U V W X Y Z \n",
      "Lower case letters are\n",
      "a b c d e f g h i j k l m n o p q r s t u v w x y z "
     ]
    }
   ],
   "source": [
    "## output: a b c d e --- z\n",
    "## A B C D -- Z\n",
    "\n",
    "print('Upper case letters are: ')\n",
    "for i in range(65,91):\n",
    "    print(chr(i),end=' ')\n",
    "print('\\nLower case letters are')\n",
    "for i in range(97,123):\n",
    "    print(chr(i),end=' ')"
   ]
  },
  {
   "cell_type": "code",
   "execution_count": 13,
   "metadata": {},
   "outputs": [
    {
     "name": "stdout",
     "output_type": "stream",
     "text": [
      "65\n",
      "90\n",
      "97\n",
      "122\n",
      "a\n"
     ]
    }
   ],
   "source": [
    "print(ord('A'))\n",
    "# print(chr(66))\n",
    "print(ord('Z'))\n",
    "print(ord('a'))\n",
    "print(ord('z'))\n",
    "print(chr(97))\n"
   ]
  },
  {
   "cell_type": "markdown",
   "metadata": {},
   "source": [
    "## Day Objectives\n",
    "\n",
    "- Nested for loop\n",
    "- Nested while loop\n",
    "- Jump statements\n",
    "- Functions"
   ]
  },
  {
   "cell_type": "markdown",
   "metadata": {},
   "source": [
    "## Nested for loop\n",
    "\n",
    "- Loop inside loop\n",
    "- Mainly we are using nested for loop for patterns solving\n",
    "- Syntax:\n",
    "\n",
    " for variable in range(start,end,step): --> Outerloop\n",
    "     statements\n",
    "     for varaibel in range(start,end,step): --> inner loop\n",
    "         statements/logic\n",
    "     "
   ]
  },
  {
   "cell_type": "code",
   "execution_count": 16,
   "metadata": {},
   "outputs": [
    {
     "name": "stdout",
     "output_type": "stream",
     "text": [
      "enter start value: 1\n",
      "enter end value: 1000\n",
      "6 28 496 "
     ]
    }
   ],
   "source": [
    "## Perfect number series\n",
    "## input: 1----10\n",
    "## output: 6 \n",
    "\n",
    "s = int(input('enter start value: '))\n",
    "e = int(input('enter end value: '))\n",
    "for i in range(s,e+1): ## 1 2 3 4 5 6 7 8 9 10\n",
    "    f_sum = 0\n",
    "    for j in range(1,i):\n",
    "        if i%j == 0:\n",
    "            f_sum = f_sum + j\n",
    "    if(f_sum == i):\n",
    "        print(i,end=' ')\n",
    "    \n",
    "    \n",
    "    "
   ]
  },
  {
   "cell_type": "code",
   "execution_count": null,
   "metadata": {},
   "outputs": [],
   "source": []
  },
  {
   "cell_type": "code",
   "execution_count": 18,
   "metadata": {},
   "outputs": [],
   "source": [
    "for i in range(1,1):\n",
    "    print(i)"
   ]
  },
  {
   "cell_type": "code",
   "execution_count": 20,
   "metadata": {},
   "outputs": [
    {
     "name": "stdout",
     "output_type": "stream",
     "text": [
      "* * * \n",
      "* * * \n",
      "* * * \n"
     ]
    }
   ],
   "source": [
    "## Square patterns\n",
    "\n",
    "# * * *\n",
    "# * * *\n",
    "# * * *\n",
    "\n",
    "for i in range(3): ## 0 1 2\n",
    "    for j in range(3): ## 0 1 2\n",
    "        print('*',end=' ')\n",
    "    print()"
   ]
  },
  {
   "cell_type": "code",
   "execution_count": 22,
   "metadata": {},
   "outputs": [
    {
     "name": "stdout",
     "output_type": "stream",
     "text": [
      "@ @ @ \n",
      "@   @ \n",
      "@ @ @ \n"
     ]
    }
   ],
   "source": [
    "# @ @ @\n",
    "# @   @\n",
    "# @ @ @\n",
    "\n",
    "for i in range(3):\n",
    "    for j in range(3):\n",
    "        if(i == 0 or i == 2 or j == 0 or j == 2):\n",
    "            print('@',end=' ')\n",
    "        else:\n",
    "            print(' ',end=' ')\n",
    "    print()\n",
    "            \n",
    "        "
   ]
  },
  {
   "cell_type": "code",
   "execution_count": 23,
   "metadata": {},
   "outputs": [
    {
     "name": "stdout",
     "output_type": "stream",
     "text": [
      "6\n",
      "@ @ @ @ @ @ \n",
      "@         @ \n",
      "@         @ \n",
      "@         @ \n",
      "@         @ \n",
      "@ @ @ @ @ @ \n"
     ]
    }
   ],
   "source": [
    "n = int(input())\n",
    "for i in range(n):\n",
    "    for j in range(n):\n",
    "        if(i==0 or i == n-1 or j == 0 or j == n-1):\n",
    "            print('@',end=' ')\n",
    "        else:\n",
    "            print(' ',end=' ')\n",
    "    print()"
   ]
  },
  {
   "cell_type": "code",
   "execution_count": 30,
   "metadata": {},
   "outputs": [
    {
     "name": "stdout",
     "output_type": "stream",
     "text": [
      "5\n",
      "z z z z z \n",
      "      z   \n",
      "    z     \n",
      "  z       \n",
      "z z z z z \n"
     ]
    }
   ],
   "source": [
    "# z z z z z\n",
    "#       z \n",
    "#     z   \n",
    "#   z  \n",
    "# z z z z z \n",
    "\n",
    "n = int(input())\n",
    "for i in range(n):\n",
    "    for j in range(n):\n",
    "        if(i == 0 or i == n-1 or i+j == n-1):\n",
    "            print('z',end=' ')\n",
    "        else:\n",
    "            print(' ',end=' ')\n",
    "    print()"
   ]
  },
  {
   "cell_type": "code",
   "execution_count": 36,
   "metadata": {},
   "outputs": [
    {
     "name": "stdout",
     "output_type": "stream",
     "text": [
      "6\n",
      "* * * * * * \n",
      "        *\n",
      "      *\n",
      "    *\n",
      "  *\n",
      "* * * * * * \n"
     ]
    }
   ],
   "source": [
    "n=int(input()) \n",
    "for i in range (1, n+1) :\n",
    "    if(i==1 or i==n) :\n",
    "        print(\"* \"*(n)) \n",
    "    else:\n",
    "        print(\"  \"*(n-1-i), \" *\") \n"
   ]
  },
  {
   "cell_type": "markdown",
   "metadata": {},
   "source": [
    "## nested while loop\n",
    "\n",
    "- While loop inside while loop\n",
    "- Syntax:\n",
    "    initialization\n",
    "    while(condition):\n",
    "        statements\n",
    "        initialization\n",
    "        while(condition):\n",
    "            statements\n",
    "            updation(inc/dec)\n",
    "    updation(inc/dec)\n",
    "        "
   ]
  },
  {
   "cell_type": "code",
   "execution_count": 37,
   "metadata": {},
   "outputs": [
    {
     "name": "stdout",
     "output_type": "stream",
     "text": [
      "1 2 3 4 5 6 7 8 9 10 \n",
      "2 4 6 8 10 12 14 16 18 20 \n",
      "3 6 9 12 15 18 21 24 27 30 \n",
      "4 8 12 16 20 24 28 32 36 40 \n",
      "5 10 15 20 25 30 35 40 45 50 \n",
      "6 12 18 24 30 36 42 48 54 60 \n",
      "7 14 21 28 35 42 49 56 63 70 \n",
      "8 16 24 32 40 48 56 64 72 80 \n",
      "9 18 27 36 45 54 63 72 81 90 \n",
      "10 20 30 40 50 60 70 80 90 100 \n"
     ]
    }
   ],
   "source": [
    "i = 1\n",
    "while(i<=10):\n",
    "    j = 1\n",
    "    while(j<=10):\n",
    "        print(i*j,end=' ')\n",
    "        j += 1\n",
    "    print()\n",
    "    i += 1\n",
    "        "
   ]
  },
  {
   "cell_type": "markdown",
   "metadata": {},
   "source": [
    "## Jump Statements\n",
    "    - we may call these statements as unconditional statements\n",
    "\n",
    "- break\n",
    "    - it terminates entire loop\n",
    "- continue\n",
    "    - it just skip the current/present iteration and resumes execution at the next statement"
   ]
  },
  {
   "cell_type": "code",
   "execution_count": 38,
   "metadata": {},
   "outputs": [
    {
     "name": "stdout",
     "output_type": "stream",
     "text": [
      "0 1 "
     ]
    }
   ],
   "source": [
    "for i in range(5): ## i = 0,1,2,3,4\n",
    "    if(i == 2):\n",
    "        break\n",
    "    print(i,end=' ')\n",
    "        \n",
    "    "
   ]
  },
  {
   "cell_type": "code",
   "execution_count": 39,
   "metadata": {},
   "outputs": [
    {
     "name": "stdout",
     "output_type": "stream",
     "text": [
      "p\n",
      "y\n",
      "t\n"
     ]
    }
   ],
   "source": [
    "for i in 'python':  ## i = p,y,t,h,o,n\n",
    "    if i == 'h':\n",
    "        break\n",
    "    print(i)"
   ]
  },
  {
   "cell_type": "code",
   "execution_count": 40,
   "metadata": {},
   "outputs": [
    {
     "name": "stdout",
     "output_type": "stream",
     "text": [
      "p\n",
      "y\n",
      "t\n",
      "o\n",
      "n\n"
     ]
    }
   ],
   "source": [
    "for i in 'python':  ## i = p,y,t,h,o,n\n",
    "    if i == 'h':\n",
    "        continue\n",
    "    print(i)"
   ]
  },
  {
   "cell_type": "code",
   "execution_count": null,
   "metadata": {},
   "outputs": [],
   "source": []
  },
  {
   "cell_type": "code",
   "execution_count": null,
   "metadata": {},
   "outputs": [],
   "source": []
  },
  {
   "cell_type": "code",
   "execution_count": null,
   "metadata": {},
   "outputs": [],
   "source": []
  },
  {
   "cell_type": "markdown",
   "metadata": {},
   "source": [
    "## Functions\n",
    "\n",
    "- Function\n",
    "    - Group of statements that together to perform a particular/single task\n",
    "- Why we using functions\n",
    "    - Code reusability\n",
    "    "
   ]
  },
  {
   "cell_type": "code",
   "execution_count": null,
   "metadata": {},
   "outputs": [],
   "source": []
  },
  {
   "cell_type": "code",
   "execution_count": null,
   "metadata": {},
   "outputs": [],
   "source": []
  },
  {
   "cell_type": "code",
   "execution_count": null,
   "metadata": {},
   "outputs": [],
   "source": []
  },
  {
   "cell_type": "code",
   "execution_count": null,
   "metadata": {},
   "outputs": [],
   "source": []
  },
  {
   "cell_type": "code",
   "execution_count": null,
   "metadata": {},
   "outputs": [],
   "source": []
  },
  {
   "cell_type": "code",
   "execution_count": null,
   "metadata": {},
   "outputs": [],
   "source": []
  },
  {
   "cell_type": "code",
   "execution_count": null,
   "metadata": {},
   "outputs": [],
   "source": []
  },
  {
   "cell_type": "code",
   "execution_count": null,
   "metadata": {},
   "outputs": [],
   "source": []
  },
  {
   "cell_type": "code",
   "execution_count": null,
   "metadata": {},
   "outputs": [],
   "source": []
  },
  {
   "cell_type": "code",
   "execution_count": null,
   "metadata": {},
   "outputs": [],
   "source": []
  },
  {
   "cell_type": "code",
   "execution_count": null,
   "metadata": {},
   "outputs": [],
   "source": []
  },
  {
   "cell_type": "code",
   "execution_count": null,
   "metadata": {},
   "outputs": [],
   "source": []
  },
  {
   "cell_type": "code",
   "execution_count": null,
   "metadata": {},
   "outputs": [],
   "source": []
  },
  {
   "cell_type": "code",
   "execution_count": null,
   "metadata": {},
   "outputs": [],
   "source": []
  },
  {
   "cell_type": "code",
   "execution_count": null,
   "metadata": {},
   "outputs": [],
   "source": []
  },
  {
   "cell_type": "code",
   "execution_count": null,
   "metadata": {},
   "outputs": [],
   "source": []
  },
  {
   "cell_type": "code",
   "execution_count": null,
   "metadata": {},
   "outputs": [],
   "source": []
  },
  {
   "cell_type": "code",
   "execution_count": null,
   "metadata": {},
   "outputs": [],
   "source": []
  }
 ],
 "metadata": {
  "kernelspec": {
   "display_name": "Python 3",
   "language": "python",
   "name": "python3"
  },
  "language_info": {
   "codemirror_mode": {
    "name": "ipython",
    "version": 3
   },
   "file_extension": ".py",
   "mimetype": "text/x-python",
   "name": "python",
   "nbconvert_exporter": "python",
   "pygments_lexer": "ipython3",
   "version": "3.8.3"
  }
 },
 "nbformat": 4,
 "nbformat_minor": 4
}
