{
 "cells": [
  {
   "cell_type": "markdown",
   "metadata": {},
   "source": [
    "- Funtions\n",
    "- Packages and Modules"
   ]
  },
  {
   "cell_type": "markdown",
   "metadata": {},
   "source": [
    "- Function\n",
    "    - Group of statements that together to perform a paritular task\n",
    "- Advantages of Functions\n",
    "    - Code reusability\n",
    "    - we can't rewrite the same logic\n",
    "- Function should starts with keyword which is 'def'\n",
    "    - Function definition syntax:\n",
    "        - def fun_name(arguments/parameters):\n",
    "- Function name which is not equal to any keyword\n",
    "- Funtion call \n",
    "    - Syntax: function_name(inputs)\n",
    "- return statement\n",
    "    - end point of the function\n",
    "    - The main use of return statement is to give output which is in the form of vairable or any expression.\n",
    "- Types of functions\n",
    "    - Two types of functions\n",
    "        - Pre-defined/ Built-in functions\n",
    "            - ex: input(),print(),range(),dir(),pow()..etc\n",
    "        - User-defined functions\n",
    "            - with arguments and with return type (1,1)\n",
    "            - without arguments and without return type (0,0)\n",
    "            - with arguments and without return type(1,0)\n",
    "            - without arguments and with return type(0,1)\n",
    "            \n",
    "            \n",
    "         \n",
    "            \n",
    "\n",
    "  "
   ]
  },
  {
   "cell_type": "markdown",
   "metadata": {},
   "source": [
    "- Function definition\n",
    "- Function call\n",
    "- Function declaration --> There is no need to mention declaration in python\n"
   ]
  },
  {
   "cell_type": "code",
   "execution_count": 10,
   "metadata": {},
   "outputs": [
    {
     "name": "stdout",
     "output_type": "stream",
     "text": [
      "4\n",
      "5\n",
      "6\n"
     ]
    },
    {
     "data": {
      "text/plain": [
       "15"
      ]
     },
     "execution_count": 10,
     "metadata": {},
     "output_type": "execute_result"
    }
   ],
   "source": [
    "## with arguments with return value\n",
    "\n",
    "def addition(x,y,z): ## Function definition\n",
    "    return x+y+z\n",
    "\n",
    "a = int(input())\n",
    "b = int(input())\n",
    "c = int(input())\n",
    "addition(a,b,c) ## Function calling\n",
    "\n",
    "\n",
    "\n",
    "\n",
    "    "
   ]
  },
  {
   "cell_type": "code",
   "execution_count": 11,
   "metadata": {},
   "outputs": [
    {
     "name": "stdout",
     "output_type": "stream",
     "text": [
      "30\n"
     ]
    }
   ],
   "source": [
    "## wihtout arguments without return value\n",
    "\n",
    "def mul(): \n",
    "    a = 5\n",
    "    b = 2\n",
    "    c = 3\n",
    "    print(a*b*c)\n",
    "    \n",
    "mul()\n"
   ]
  },
  {
   "cell_type": "code",
   "execution_count": 13,
   "metadata": {},
   "outputs": [
    {
     "name": "stdout",
     "output_type": "stream",
     "text": [
      "8\n"
     ]
    }
   ],
   "source": [
    "## with arguments without return value\n",
    "\n",
    "\n",
    "def add(a,b):\n",
    "    print(a+b)\n",
    "\n",
    "a = 5\n",
    "b = 3\n",
    "add(a,b)"
   ]
  },
  {
   "cell_type": "code",
   "execution_count": 14,
   "metadata": {},
   "outputs": [
    {
     "data": {
      "text/plain": [
       "4"
      ]
     },
     "execution_count": 14,
     "metadata": {},
     "output_type": "execute_result"
    }
   ],
   "source": [
    "## without arguments with return value\n",
    "\n",
    "def sub():\n",
    "    a = 14\n",
    "    b = 10\n",
    "    return a-b\n",
    "\n",
    "sub()"
   ]
  },
  {
   "cell_type": "code",
   "execution_count": 18,
   "metadata": {},
   "outputs": [
    {
     "data": {
      "text/plain": [
       "False"
      ]
     },
     "execution_count": 18,
     "metadata": {},
     "output_type": "execute_result"
    }
   ],
   "source": [
    "## prime numbers series using functions\n",
    "\n",
    "def prime_number(n):\n",
    "    fc = 0 \n",
    "    for i in range(1,n+1):\n",
    "        if(n%i == 0):\n",
    "            fc += 1\n",
    "    if(fc == 2):\n",
    "        return True\n",
    "    return False\n",
    "\n",
    "prime_number(32)\n"
   ]
  },
  {
   "cell_type": "code",
   "execution_count": 19,
   "metadata": {},
   "outputs": [
    {
     "name": "stdout",
     "output_type": "stream",
     "text": [
      "1\n",
      "10\n",
      "2 3 5 7 "
     ]
    }
   ],
   "source": [
    "s = int(input())\n",
    "e = int(input())\n",
    "for i in range(s,e):\n",
    "    if prime_number(i):\n",
    "            print(i,end=' ')\n",
    "            "
   ]
  },
  {
   "cell_type": "code",
   "execution_count": 20,
   "metadata": {},
   "outputs": [
    {
     "data": {
      "text/plain": [
       "True"
      ]
     },
     "execution_count": 20,
     "metadata": {},
     "output_type": "execute_result"
    }
   ],
   "source": [
    "### print series of leap years\n",
    "\n",
    "def is_leap_year(year):\n",
    "    if year % 400 == 0 or (year%100!=0 and year % 4 == 0):\n",
    "        return True\n",
    "    return False\n",
    "\n",
    "is_leap_year(2016)"
   ]
  },
  {
   "cell_type": "code",
   "execution_count": 21,
   "metadata": {},
   "outputs": [
    {
     "name": "stdout",
     "output_type": "stream",
     "text": [
      "2000\n",
      "2021\n",
      "2000 2004 2008 2012 2016 2020 "
     ]
    }
   ],
   "source": [
    "s = int(input())\n",
    "e = int(input())\n",
    "for year in range(s,e+1):\n",
    "    if is_leap_year(year):\n",
    "        print(year,end=' ')\n",
    "        "
   ]
  },
  {
   "cell_type": "markdown",
   "metadata": {},
   "source": [
    "### Types of Arguments\n",
    "\n",
    "- How many ways the arguments can pass to the function call\n",
    "\n",
    "- 1. Required arguments\n",
    "    - arguments passes to the function in correct postional order\n",
    "    - number of arguments in function call should match exactly with function defintion\n",
    "- 2. Keyword arguments \n",
    "    - which identifiles the arguments by paramater name\n",
    "- 3. Default arguments\n",
    "    - Assumes default value if value is not specified in function calling part\n",
    "- 4. Variable length arguments\n",
    "    - Process a function for more arguments than you specified while defining the function"
   ]
  },
  {
   "cell_type": "code",
   "execution_count": 22,
   "metadata": {},
   "outputs": [
    {
     "name": "stdout",
     "output_type": "stream",
     "text": [
      "welcome to python online  workshop\n"
     ]
    }
   ],
   "source": [
    "## required arguments\n",
    "\n",
    "def hii(name):\n",
    "    print('welcome to python online ',name)\n",
    "    \n",
    "hii('workshop')\n",
    "    "
   ]
  },
  {
   "cell_type": "code",
   "execution_count": 26,
   "metadata": {},
   "outputs": [
    {
     "name": "stdout",
     "output_type": "stream",
     "text": [
      "6 5 7\n"
     ]
    }
   ],
   "source": [
    "def add(a,b,c):\n",
    "    d = a+b+c\n",
    "    print(b,a,c)\n",
    "\n",
    "add(5,6,7)"
   ]
  },
  {
   "cell_type": "code",
   "execution_count": 27,
   "metadata": {},
   "outputs": [
    {
     "name": "stdout",
     "output_type": "stream",
     "text": [
      "123\n",
      "ECE\n"
     ]
    }
   ],
   "source": [
    "## Keyword arguments\n",
    "\n",
    "def details(number,branch):\n",
    "    print(number)\n",
    "    print(branch)\n",
    "\n",
    "details(branch = 'ECE',number = 123)"
   ]
  },
  {
   "cell_type": "code",
   "execution_count": 29,
   "metadata": {},
   "outputs": [
    {
     "name": "stdout",
     "output_type": "stream",
     "text": [
      "123\n",
      "ECE\n",
      "abc\n"
     ]
    }
   ],
   "source": [
    "## default arguments\n",
    "\n",
    "def details(number,branch='ECE',name = 'abc'):\n",
    "    print(number)\n",
    "    print(branch)\n",
    "    print(name)\n",
    "details(123,)"
   ]
  },
  {
   "cell_type": "code",
   "execution_count": 30,
   "metadata": {},
   "outputs": [
    {
     "name": "stdout",
     "output_type": "stream",
     "text": [
      "ECE CSE Civil Mec "
     ]
    }
   ],
   "source": [
    "## Varaible length arguments\n",
    "\n",
    "def display(* branches):\n",
    "    for i in branches:\n",
    "        print(i,end=' ')\n",
    "    \n",
    "\n",
    "display('ECE','CSE','Civil','Mec')    "
   ]
  },
  {
   "cell_type": "code",
   "execution_count": null,
   "metadata": {},
   "outputs": [],
   "source": []
  },
  {
   "cell_type": "markdown",
   "metadata": {},
   "source": [
    "## Packages and Modules\n",
    "\n",
    "- Packages\n",
    "    - Collection of Modules\n",
    "- Modules\n",
    "    - Collection of functions\n",
    "    - Two types modules\n",
    "        - 1. Pre-defined/Built-in modules\n",
    "            - ex: math,re,random..etc\n",
    "        - 2. User defined modules\n",
    "            - .py file"
   ]
  },
  {
   "cell_type": "code",
   "execution_count": 31,
   "metadata": {},
   "outputs": [],
   "source": [
    "import math"
   ]
  },
  {
   "cell_type": "code",
   "execution_count": 32,
   "metadata": {},
   "outputs": [
    {
     "name": "stdout",
     "output_type": "stream",
     "text": [
      "['__doc__', '__loader__', '__name__', '__package__', '__spec__', 'acos', 'acosh', 'asin', 'asinh', 'atan', 'atan2', 'atanh', 'ceil', 'comb', 'copysign', 'cos', 'cosh', 'degrees', 'dist', 'e', 'erf', 'erfc', 'exp', 'expm1', 'fabs', 'factorial', 'floor', 'fmod', 'frexp', 'fsum', 'gamma', 'gcd', 'hypot', 'inf', 'isclose', 'isfinite', 'isinf', 'isnan', 'isqrt', 'ldexp', 'lgamma', 'log', 'log10', 'log1p', 'log2', 'modf', 'nan', 'perm', 'pi', 'pow', 'prod', 'radians', 'remainder', 'sin', 'sinh', 'sqrt', 'tan', 'tanh', 'tau', 'trunc'] "
     ]
    }
   ],
   "source": [
    "print(dir(math),end=' ')"
   ]
  },
  {
   "cell_type": "code",
   "execution_count": 35,
   "metadata": {},
   "outputs": [
    {
     "name": "stdout",
     "output_type": "stream",
     "text": [
      "24\n",
      "23\n",
      "8.0\n"
     ]
    }
   ],
   "source": [
    "a = 23.45\n",
    "print(math.ceil(a))\n",
    "print(math.floor(a))\n",
    "print(math.pow(2,3))"
   ]
  },
  {
   "cell_type": "code",
   "execution_count": 36,
   "metadata": {},
   "outputs": [],
   "source": [
    "import math as m"
   ]
  },
  {
   "cell_type": "code",
   "execution_count": 37,
   "metadata": {},
   "outputs": [
    {
     "name": "stdout",
     "output_type": "stream",
     "text": [
      "24\n",
      "23\n",
      "8.0\n"
     ]
    }
   ],
   "source": [
    "a = 23.45\n",
    "print(m.ceil(a))\n",
    "print(m.floor(a))\n",
    "print(m.pow(2,3))"
   ]
  },
  {
   "cell_type": "code",
   "execution_count": 1,
   "metadata": {},
   "outputs": [],
   "source": [
    "from Package import module"
   ]
  },
  {
   "cell_type": "code",
   "execution_count": 40,
   "metadata": {},
   "outputs": [
    {
     "data": {
      "text/plain": [
       "True"
      ]
     },
     "execution_count": 40,
     "metadata": {},
     "output_type": "execute_result"
    }
   ],
   "source": [
    "module.is_palindrom('level')"
   ]
  },
  {
   "cell_type": "code",
   "execution_count": 41,
   "metadata": {},
   "outputs": [
    {
     "data": {
      "text/plain": [
       "False"
      ]
     },
     "execution_count": 41,
     "metadata": {},
     "output_type": "execute_result"
    }
   ],
   "source": [
    "module.is_palindrom('level_one')"
   ]
  },
  {
   "cell_type": "code",
   "execution_count": 2,
   "metadata": {},
   "outputs": [
    {
     "data": {
      "text/plain": [
       "120"
      ]
     },
     "execution_count": 2,
     "metadata": {},
     "output_type": "execute_result"
    }
   ],
   "source": [
    "module.factorial(5)"
   ]
  },
  {
   "cell_type": "code",
   "execution_count": 3,
   "metadata": {},
   "outputs": [
    {
     "data": {
      "text/plain": [
       "40320"
      ]
     },
     "execution_count": 3,
     "metadata": {},
     "output_type": "execute_result"
    }
   ],
   "source": [
    "module.factorial(8)"
   ]
  },
  {
   "cell_type": "code",
   "execution_count": 6,
   "metadata": {},
   "outputs": [],
   "source": [
    "from Package import module as mm"
   ]
  },
  {
   "cell_type": "code",
   "execution_count": 9,
   "metadata": {},
   "outputs": [
    {
     "data": {
      "text/plain": [
       "True"
      ]
     },
     "execution_count": 9,
     "metadata": {},
     "output_type": "execute_result"
    }
   ],
   "source": [
    "mm.is_palindrom('madam')"
   ]
  },
  {
   "cell_type": "code",
   "execution_count": 10,
   "metadata": {},
   "outputs": [
    {
     "data": {
      "text/plain": [
       "6"
      ]
     },
     "execution_count": 10,
     "metadata": {},
     "output_type": "execute_result"
    }
   ],
   "source": [
    "mm.factorial(3)"
   ]
  },
  {
   "cell_type": "code",
   "execution_count": 11,
   "metadata": {},
   "outputs": [
    {
     "name": "stdout",
     "output_type": "stream",
     "text": [
      "['__builtins__', '__cached__', '__doc__', '__file__', '__loader__', '__name__', '__package__', '__spec__', 'factorial', 'is_palindrom'] "
     ]
    }
   ],
   "source": [
    "print(dir(mm),end=' ')"
   ]
  },
  {
   "cell_type": "code",
   "execution_count": null,
   "metadata": {},
   "outputs": [],
   "source": []
  }
 ],
 "metadata": {
  "kernelspec": {
   "display_name": "Python 3",
   "language": "python",
   "name": "python3"
  },
  "language_info": {
   "codemirror_mode": {
    "name": "ipython",
    "version": 3
   },
   "file_extension": ".py",
   "mimetype": "text/x-python",
   "name": "python",
   "nbconvert_exporter": "python",
   "pygments_lexer": "ipython3",
   "version": "3.8.3"
  }
 },
 "nbformat": 4,
 "nbformat_minor": 4
}
