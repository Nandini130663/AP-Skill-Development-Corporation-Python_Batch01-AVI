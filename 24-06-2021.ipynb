{
 "cells": [
  {
   "cell_type": "markdown",
   "metadata": {},
   "source": [
    "## Day objectives\n",
    "\n",
    "- Coditional Statements\n",
    "    - To execute specific block or code when the given condition is true or false\n",
    "- Types of conditional Statements\n",
    "    - if conditional statement ---> to check single condition in a program\n",
    "    - if...else conditional statements --> to check two conditions\n",
    "    - if..elif...else conditional statements --> to check more thank two conditions\n",
    "    - nested..if conditional statements --> blocks inside blocks// condition inside conditions\n",
    "    \n",
    "    "
   ]
  },
  {
   "cell_type": "markdown",
   "metadata": {},
   "source": [
    "## if conditional statement\n",
    "\n",
    "- Syntax for if statement\n",
    "\n",
    "if(condition):\n",
    "      statements/logic\n",
    "    \n",
    "- indendataion \n",
    "    -  four spaces or one tabspace"
   ]
  },
  {
   "cell_type": "code",
   "execution_count": 1,
   "metadata": {},
   "outputs": [
    {
     "name": "stdout",
     "output_type": "stream",
     "text": [
      "26 is greater than 20\n"
     ]
    }
   ],
   "source": [
    "## sum of two numbers is greater than 20 or not\n",
    "## input: 12 14 -->26\n",
    "## output: 26 is greater than 20\n",
    "\n",
    "a = 12\n",
    "b = 14\n",
    "res = a+b\n",
    "if(res>20):\n",
    "    print(res,'is greater than 20')\n",
    "    "
   ]
  },
  {
   "cell_type": "code",
   "execution_count": 4,
   "metadata": {},
   "outputs": [
    {
     "name": "stdout",
     "output_type": "stream",
     "text": [
      "enter a number: 12\n",
      "enter another number: 3\n"
     ]
    }
   ],
   "source": [
    "x = int(input('enter a number: '))\n",
    "y = int(input('enter another number: '))\n",
    "if(x+y>20):\n",
    "    print(x+y,'is greater than 20')\n",
    "    "
   ]
  },
  {
   "cell_type": "code",
   "execution_count": 5,
   "metadata": {},
   "outputs": [
    {
     "name": "stdout",
     "output_type": "stream",
     "text": [
      "enter number: 14\n",
      "14 is greater than 10\n"
     ]
    }
   ],
   "source": [
    "## Check the given number is greater than 10 or not\n",
    "# input: 16\n",
    "## output: 16 is greater than 10\n",
    "\n",
    "n = int(input('enter number: '))\n",
    "if(n>10):\n",
    "    print(n,'is greater than 10')\n",
    "    "
   ]
  },
  {
   "cell_type": "markdown",
   "metadata": {},
   "source": [
    "- if...else conditional statements\n",
    "\n",
    "- Syntax\n",
    "\n",
    "if(condtion):\n",
    "    statements/logic\n",
    "else:\n",
    "    statements/logic\n"
   ]
  },
  {
   "cell_type": "code",
   "execution_count": 7,
   "metadata": {},
   "outputs": [
    {
     "name": "stdout",
     "output_type": "stream",
     "text": [
      "enter number: 789\n",
      "789 is Odd\n"
     ]
    }
   ],
   "source": [
    "## Check the given number is even or odd\n",
    "\n",
    "num = int(input('enter number: '))\n",
    "if(num%2 == 0):\n",
    "    print(num,'is Even')\n",
    "else:\n",
    "    print(num,'is Odd')\n",
    "    "
   ]
  },
  {
   "cell_type": "code",
   "execution_count": 10,
   "metadata": {},
   "outputs": [
    {
     "name": "stdout",
     "output_type": "stream",
     "text": [
      "12345\n",
      "12345 is not existed\n"
     ]
    }
   ],
   "source": [
    "## Check the given number is existed in the given range or not\n",
    "## input: 6\n",
    "## range: 1--10\n",
    "## output: 6 is existed\n",
    "## input: 16\n",
    "## output:  16 is not existed\n",
    "\n",
    "t = int(input())\n",
    "if(t>=1 and t<=10):\n",
    "    print(t,'is existed')\n",
    "else:\n",
    "    print(t,'is not existed')\n",
    "    \n",
    "\n"
   ]
  },
  {
   "cell_type": "markdown",
   "metadata": {},
   "source": [
    "## if..elif..else conditional statement\n",
    "\n",
    "- Syntax:\n",
    "\n",
    "if(condition):\n",
    "    statements\n",
    "elif(condition):\n",
    "    statements\n",
    "    \n",
    "--\n",
    "--\n",
    "--\n",
    "else:\n",
    "    statements\n"
   ]
  },
  {
   "cell_type": "code",
   "execution_count": 13,
   "metadata": {},
   "outputs": [
    {
     "name": "stdout",
     "output_type": "stream",
     "text": [
      "6\n",
      "7\n",
      "&\n",
      "Invalid\n"
     ]
    }
   ],
   "source": [
    "## Mathematical operations (+,-,*,/)\n",
    "## Take two integers as input (2,3)\n",
    "## input: +\n",
    "## output: Addition (5)\n",
    "## input: *\n",
    "## output: Multiplication (6)\n",
    "## input: !\n",
    "## output: Invalid \n",
    "\n",
    "a = int(input())\n",
    "b = int(input())\n",
    "r = input()\n",
    "if(r == '+'):\n",
    "    print(a+b)\n",
    "elif(r == '-'):\n",
    "    print(a-b)\n",
    "elif(r == '*'):\n",
    "    print(a*b)\n",
    "elif(r == '/'):\n",
    "    print(a/b)\n",
    "else:\n",
    "    print('Invalid')\n",
    "\n",
    "\n",
    "\n",
    "\n",
    "\n"
   ]
  },
  {
   "cell_type": "markdown",
   "metadata": {},
   "source": [
    "## Tasks\n",
    "\n",
    "- Number spelling(0---9)\n",
    "    - input: 3\n",
    "    - output: Three\n",
    "- Day name\n",
    "    - input: 2\n",
    "    - output: Monday\n",
    "    - input: 7\n",
    "    - output: Saturday\n",
    "    \n",
    "\n",
    "    \n"
   ]
  },
  {
   "cell_type": "code",
   "execution_count": 17,
   "metadata": {},
   "outputs": [
    {
     "name": "stdout",
     "output_type": "stream",
     "text": [
      "2\n",
      "Two\n"
     ]
    }
   ],
   "source": [
    "# 1 -- 4\n",
    "\n",
    "# 1 -- One\n",
    "# 2 -- Two\n",
    "# 3 -- Three\n",
    "# 4 -- Four\n",
    "# 67 -- Odd\n",
    "# 784 -- Even\n",
    "\n",
    "y = int(input())\n",
    "if(y == 1):\n",
    "    print('One')\n",
    "elif(y == 2):\n",
    "    print('Two')\n",
    "elif(y == 3):\n",
    "    print('Three')\n",
    "elif(y == 4):\n",
    "    print('Four')\n",
    "else:\n",
    "    if(y%2 != 0):\n",
    "        print('Odd')\n",
    "    else:\n",
    "        print('Even')\n",
    "        \n",
    "\n"
   ]
  },
  {
   "cell_type": "code",
   "execution_count": 19,
   "metadata": {},
   "outputs": [
    {
     "name": "stdout",
     "output_type": "stream",
     "text": [
      "enter first number: 34\n",
      "enter second number: 56\n",
      "enter third number: 12\n",
      "56 is Big number\n"
     ]
    }
   ],
   "source": [
    "## Big number of three number\n",
    "\n",
    "n1 = int(input('enter first number: '))\n",
    "n2 = int(input('enter second number: '))\n",
    "n3 = int(input('enter third number: '))\n",
    "if(n1>n2 and n1>n3):\n",
    "    print(n1,'is Big number')\n",
    "elif(n2>n1 and n2>n3):\n",
    "    print(n2,'is Big number')\n",
    "# elif(n3>n1 and n3>n2):\n",
    "#     print(n3,'is Big number')\n",
    "else:\n",
    "    print(n3,'is Big number')\n",
    "    "
   ]
  },
  {
   "cell_type": "markdown",
   "metadata": {},
   "source": [
    "- nested..if\n",
    "\n",
    "- Syntax:\n",
    "\n",
    "if(condition):\n",
    "    statements/logic\n",
    "    if(condition):\n",
    "        statement\n",
    "    else:\n",
    "        statements\n",
    "        if(condition):\n",
    "            statements\n",
    "        elif(condition):\n",
    "            statements\n",
    "        else:\n",
    "            statements\n",
    "       \n",
    "    "
   ]
  },
  {
   "cell_type": "code",
   "execution_count": 22,
   "metadata": {},
   "outputs": [
    {
     "name": "stdout",
     "output_type": "stream",
     "text": [
      "enter user_id: 12\n",
      "enter pwd: 23466578\n",
      "Wrong password\n"
     ]
    }
   ],
   "source": [
    "## 1 -- 100 (used_ids)\n",
    "    ## password (12345)\n",
    "        ## Successfully entered\n",
    "    ## Wrong password\n",
    "## Invalid user_id\n",
    "\n",
    "u_id = int(input('enter user_id: '))\n",
    "if(u_id>=1 and u_id<=100):\n",
    "    pwd = int(input('enter pwd: '))\n",
    "    if(pwd == 12345):\n",
    "        print('Successfully entered')\n",
    "    else:\n",
    "        print('Wrong password')  \n",
    "else:\n",
    "    print('Invalid user_id')\n",
    "    \n"
   ]
  },
  {
   "cell_type": "code",
   "execution_count": 23,
   "metadata": {},
   "outputs": [
    {
     "name": "stdout",
     "output_type": "stream",
     "text": [
      "5\n",
      "625\n"
     ]
    }
   ],
   "source": [
    "## input: even\n",
    "## output: even_num**3\n",
    "## input: odd\n",
    "## output: odd_num**4\n",
    "\n",
    "n = int(input())\n",
    "if(n%2 == 0):\n",
    "    print(n**3)\n",
    "else:\n",
    "    print(n**4)"
   ]
  },
  {
   "cell_type": "code",
   "execution_count": null,
   "metadata": {},
   "outputs": [],
   "source": []
  },
  {
   "cell_type": "code",
   "execution_count": null,
   "metadata": {},
   "outputs": [],
   "source": []
  },
  {
   "cell_type": "code",
   "execution_count": null,
   "metadata": {},
   "outputs": [],
   "source": []
  },
  {
   "cell_type": "code",
   "execution_count": null,
   "metadata": {},
   "outputs": [],
   "source": []
  },
  {
   "cell_type": "code",
   "execution_count": null,
   "metadata": {},
   "outputs": [],
   "source": []
  },
  {
   "cell_type": "code",
   "execution_count": null,
   "metadata": {},
   "outputs": [],
   "source": []
  },
  {
   "cell_type": "code",
   "execution_count": null,
   "metadata": {},
   "outputs": [],
   "source": []
  },
  {
   "cell_type": "code",
   "execution_count": null,
   "metadata": {},
   "outputs": [],
   "source": []
  }
 ],
 "metadata": {
  "kernelspec": {
   "display_name": "Python 3",
   "language": "python",
   "name": "python3"
  },
  "language_info": {
   "codemirror_mode": {
    "name": "ipython",
    "version": 3
   },
   "file_extension": ".py",
   "mimetype": "text/x-python",
   "name": "python",
   "nbconvert_exporter": "python",
   "pygments_lexer": "ipython3",
   "version": "3.8.3"
  }
 },
 "nbformat": 4,
 "nbformat_minor": 4
}
