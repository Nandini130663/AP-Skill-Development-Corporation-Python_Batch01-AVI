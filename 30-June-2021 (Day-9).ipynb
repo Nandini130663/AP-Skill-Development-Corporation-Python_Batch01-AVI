{
 "cells": [
  {
   "cell_type": "markdown",
   "metadata": {},
   "source": [
    "## Day Objectives:\n",
    "\n",
    "- Tuples\n",
    "- Sets"
   ]
  },
  {
   "cell_type": "code",
   "execution_count": 2,
   "metadata": {
    "collapsed": true
   },
   "outputs": [
    {
     "name": "stdout",
     "output_type": "stream",
     "text": [
      "['__add__', '__class__', '__contains__', '__delattr__', '__delitem__', '__dir__', '__doc__', '__eq__', '__format__', '__ge__', '__getattribute__', '__getitem__', '__gt__', '__hash__', '__iadd__', '__imul__', '__init__', '__init_subclass__', '__iter__', '__le__', '__len__', '__lt__', '__mul__', '__ne__', '__new__', '__reduce__', '__reduce_ex__', '__repr__', '__reversed__', '__rmul__', '__setattr__', '__setitem__', '__sizeof__', '__str__', '__subclasshook__', 'append', 'clear', 'copy', 'count', 'extend', 'index', 'insert', 'pop', 'remove', 'reverse', 'sort']\n"
     ]
    }
   ],
   "source": [
    "print(dir(list))"
   ]
  },
  {
   "cell_type": "markdown",
   "metadata": {},
   "source": [
    "#### For Adding new element\n",
    "- append()  --> to add a new element at the end of a list.\n",
    "- extend()  --> to add multiple elements at a time.\n",
    "- insert()  --> to add an element at a particular index position.\n",
    "\n",
    "#### For Deletion\n",
    "\n",
    "- pop()  --> it deletes and returns the last element.\n",
    "- remove()  --> to delete a particular element \n",
    "- clear()  --> it erases all the elements.\n",
    "- del --> it removes entire data structures."
   ]
  },
  {
   "cell_type": "code",
   "execution_count": 27,
   "metadata": {},
   "outputs": [],
   "source": [
    "li = [1,2,3.5,'blue']\n",
    "\n",
    "li1 = li.copy()\n",
    "li2 = li"
   ]
  },
  {
   "cell_type": "code",
   "execution_count": 28,
   "metadata": {
    "collapsed": true
   },
   "outputs": [
    {
     "name": "stdout",
     "output_type": "stream",
     "text": [
      "[1, 2, 3.5, 'blue']\n",
      "[1, 2, 3.5, 'blue']\n"
     ]
    }
   ],
   "source": [
    "print(li1)\n",
    "print(li2)"
   ]
  },
  {
   "cell_type": "code",
   "execution_count": 30,
   "metadata": {
    "collapsed": true
   },
   "outputs": [
    {
     "name": "stdout",
     "output_type": "stream",
     "text": [
      "[1, 2, 'green', 'blue']\n",
      "[1, 2, 3.5, 'blue']\n",
      "[1, 2, 'green', 'blue']\n"
     ]
    }
   ],
   "source": [
    "li[2] = 'green'\n",
    "print(li)\n",
    "print(li1)\n",
    "print(li2)"
   ]
  },
  {
   "cell_type": "code",
   "execution_count": 50,
   "metadata": {},
   "outputs": [],
   "source": [
    "## reverse(), sort()\n",
    "names = ['jahnavi','eekshita','priya','girija',100,200]\n",
    "# names[::-1]\n",
    "names.reverse()"
   ]
  },
  {
   "cell_type": "code",
   "execution_count": 52,
   "metadata": {},
   "outputs": [
    {
     "data": {
      "text/plain": [
       "'atihskee'"
      ]
     },
     "execution_count": 52,
     "metadata": {},
     "output_type": "execute_result"
    }
   ],
   "source": [
    "names[4][::-1]"
   ]
  },
  {
   "cell_type": "code",
   "execution_count": 40,
   "metadata": {
    "collapsed": true
   },
   "outputs": [
    {
     "name": "stdout",
     "output_type": "stream",
     "text": [
      "Enter a string: liril\n",
      "Palindrome\n"
     ]
    }
   ],
   "source": [
    "## WAP to check a given string is palindrome or not\n",
    "## input:string , o/p: Palindrome or not, Condition: s==s[::-1]\n",
    "s = input(\"Enter a string: \")\n",
    "#rs = s[::-1]\n",
    "if s==s[::-1]:\n",
    "    print(\"Palindrome\")\n",
    "else:\n",
    "    print(\"Not a Palindrome\")"
   ]
  },
  {
   "cell_type": "code",
   "execution_count": 66,
   "metadata": {},
   "outputs": [],
   "source": [
    "li = [5,10,1,29,900,56,0,32]\n",
    "# 0,1,5,10,29,32,56,990\n",
    "#li.sort(reverse=True)\n",
    "li.sort()"
   ]
  },
  {
   "cell_type": "code",
   "execution_count": 68,
   "metadata": {},
   "outputs": [
    {
     "data": {
      "text/plain": [
       "[0, 1, 5, 10, 29, 32, 56, 900]"
      ]
     },
     "execution_count": 68,
     "metadata": {},
     "output_type": "execute_result"
    }
   ],
   "source": [
    "li"
   ]
  },
  {
   "cell_type": "code",
   "execution_count": 70,
   "metadata": {},
   "outputs": [],
   "source": [
    "# third largest elements in li\n",
    "li.sort(reverse=True)"
   ]
  },
  {
   "cell_type": "code",
   "execution_count": 71,
   "metadata": {},
   "outputs": [
    {
     "data": {
      "text/plain": [
       "[900, 56, 32, 29, 10, 5, 1, 0]"
      ]
     },
     "execution_count": 71,
     "metadata": {},
     "output_type": "execute_result"
    }
   ],
   "source": [
    "li"
   ]
  },
  {
   "cell_type": "markdown",
   "metadata": {},
   "source": [
    "## Tuples\n",
    "\n",
    "- Immutable DS\n",
    "- ordered\n",
    "    - strings\n",
    "    - lists\n",
    "    - tuples\n",
    "    - dict\n",
    "- unordered\n",
    "    - sets"
   ]
  },
  {
   "cell_type": "code",
   "execution_count": 77,
   "metadata": {},
   "outputs": [
    {
     "name": "stdout",
     "output_type": "stream",
     "text": [
      "(12, 34.6, 'cell', 7, 9.8)\n",
      "(900, 56, 32, 29, 10, 5, 1, 0)\n"
     ]
    }
   ],
   "source": [
    "t = (12,34.6,'cell',7,9.8)\n",
    "t1 = tuple(li)\n",
    "print(t)\n",
    "print(t1)"
   ]
  },
  {
   "cell_type": "code",
   "execution_count": 88,
   "metadata": {},
   "outputs": [
    {
     "data": {
      "text/plain": [
       "(0, 1, 5, 10, 29, 32, 56, 900)"
      ]
     },
     "execution_count": 88,
     "metadata": {},
     "output_type": "execute_result"
    }
   ],
   "source": [
    "t[0] # 12\n",
    "t[2] # 'cell'\n",
    "t[-3]  # 'cell'\n",
    "# 12 34.6 'cell'\n",
    "t[:3]\n",
    "# 'çell' 7,9.8\n",
    "t[2:]\n",
    "t[-3:] # ds_name[m:n]\n",
    "\n",
    "## reverse the tuple\n",
    "t1[::-1]"
   ]
  },
  {
   "cell_type": "code",
   "execution_count": 90,
   "metadata": {
    "collapsed": true
   },
   "outputs": [
    {
     "name": "stdout",
     "output_type": "stream",
     "text": [
      "['__add__', '__class__', '__contains__', '__delattr__', '__dir__', '__doc__', '__eq__', '__format__', '__ge__', '__getattribute__', '__getitem__', '__getnewargs__', '__gt__', '__hash__', '__init__', '__init_subclass__', '__iter__', '__le__', '__len__', '__lt__', '__mul__', '__ne__', '__new__', '__reduce__', '__reduce_ex__', '__repr__', '__rmul__', '__setattr__', '__sizeof__', '__str__', '__subclasshook__', 'count', 'index']\n"
     ]
    }
   ],
   "source": [
    "print(dir(tuple))"
   ]
  },
  {
   "cell_type": "code",
   "execution_count": 95,
   "metadata": {
    "collapsed": true
   },
   "outputs": [
    {
     "name": "stdout",
     "output_type": "stream",
     "text": [
      "1\n"
     ]
    },
    {
     "data": {
      "text/plain": [
       "0"
      ]
     },
     "execution_count": 95,
     "metadata": {},
     "output_type": "execute_result"
    }
   ],
   "source": [
    "t2 = (1,2,3,1,2,3,4,5,6)\n",
    "\n",
    "print(t2.count(4))\n",
    "\n",
    "t2.index(1)"
   ]
  },
  {
   "cell_type": "code",
   "execution_count": 97,
   "metadata": {
    "collapsed": true
   },
   "outputs": [
    {
     "name": "stdout",
     "output_type": "stream",
     "text": [
      "['g', 'o', 'o', 'd', ' ', 'm', 'o', 'r', 'n', 'i', 'n', 'g']\n",
      "('g', 'o', 'o', 'd', ' ', 'm', 'o', 'r', 'n', 'i', 'n', 'g')\n",
      "12 12 12\n"
     ]
    }
   ],
   "source": [
    "s = 'good morning'\n",
    "li = list(s)\n",
    "t = tuple(s)\n",
    "print(li)\n",
    "print(t)\n",
    "print(len(s),len(li),len(t))"
   ]
  },
  {
   "cell_type": "code",
   "execution_count": null,
   "metadata": {},
   "outputs": [],
   "source": []
  },
  {
   "cell_type": "markdown",
   "metadata": {},
   "source": [
    "### Sets\n",
    "\n",
    "- it doesn't allows repetance\n",
    "- it is an mutable data structure but un-ordered\n",
    "- indexing is not possible.\n",
    "- set will be declared by using {} or by using set() method"
   ]
  },
  {
   "cell_type": "code",
   "execution_count": 100,
   "metadata": {},
   "outputs": [],
   "source": [
    "li = list(range(0,15,2))\n",
    "t = tuple(range(1,15,2))\n",
    "s = set(range(10))"
   ]
  },
  {
   "cell_type": "code",
   "execution_count": 101,
   "metadata": {
    "collapsed": true
   },
   "outputs": [
    {
     "name": "stdout",
     "output_type": "stream",
     "text": [
      "[0, 2, 4, 6, 8, 10, 12, 14]\n",
      "(1, 3, 5, 7, 9, 11, 13)\n",
      "{0, 1, 2, 3, 4, 5, 6, 7, 8, 9}\n"
     ]
    }
   ],
   "source": [
    "print(li)\n",
    "print(t)\n",
    "print(s)"
   ]
  },
  {
   "cell_type": "code",
   "execution_count": 102,
   "metadata": {
    "collapsed": true
   },
   "outputs": [
    {
     "name": "stdout",
     "output_type": "stream",
     "text": [
      "12 12 6\n",
      "[1, 2, 3, 4, 5, 6, 2, 5, 3, 2, 2, 2]\n",
      "(1, 2, 3, 4, 5, 6, 2, 5, 3, 2, 2, 2)\n",
      "{1, 2, 3, 4, 5, 6}\n"
     ]
    }
   ],
   "source": [
    "# Doesn't allow duplicate values\n",
    "li = [1,2,3,4,5,6,2,5,3,2,2,2]\n",
    "t = (1,2,3,4,5,6,2,5,3,2,2,2)\n",
    "s = {1,2,3,4,5,6,2,5,3,2,2,2}\n",
    "\n",
    "print(len(li),len(t),len(s))\n",
    "print(li)\n",
    "print(t)\n",
    "print(s)"
   ]
  },
  {
   "cell_type": "code",
   "execution_count": 105,
   "metadata": {
    "collapsed": true
   },
   "outputs": [
    {
     "name": "stdout",
     "output_type": "stream",
     "text": [
      "[10, 4, 29, 0, 56, 40]\n",
      "(10, 4, 29, 0, 56, 40)\n",
      "{0, 4, 40, 10, 56, 29}\n"
     ]
    }
   ],
   "source": [
    "## Un-ordered\n",
    "li = [10,4,29,0,56,40]\n",
    "t = (10,4,29,0,56,40)\n",
    "s = {10,4,29,0,56,40}\n",
    "print(li)\n",
    "print(t)\n",
    "print(s)"
   ]
  },
  {
   "cell_type": "markdown",
   "metadata": {},
   "source": [
    "#### Set Operations\n",
    "- Union  --> combination of both a and b\n",
    "- Intersection --> common in a and b\n",
    "- Difference  --> all the remaining elements in the first set except common elements.\n",
    "- Symmetric Difference  --> uncommmon elements from both sets"
   ]
  },
  {
   "cell_type": "code",
   "execution_count": 122,
   "metadata": {
    "collapsed": true
   },
   "outputs": [
    {
     "name": "stdout",
     "output_type": "stream",
     "text": [
      "{1, 2, 3, 4, 5, 6, 7, 8}\n",
      "{1, 2, 3, 4, 5, 6, 7, 8}\n",
      "this is by using method:  {1, 2, 3, 4, 5, 6, 7, 8}\n",
      "{8, 4}\n",
      "{8, 4}\n",
      "this is by using method:  {8, 4}\n",
      "{1, 3, 7}\n",
      "this is k-m : {1, 3, 7}\n",
      "{2, 5, 6}\n",
      "this is m-k : {2, 5, 6}\n",
      "{1, 2, 3, 5, 6, 7}\n",
      "{1, 2, 3, 5, 6, 7}\n",
      "this is by using method:  {1, 2, 3, 5, 6, 7}\n"
     ]
    }
   ],
   "source": [
    "k = {1,3,7,8,4}\n",
    "m = {2,4,5,6,8}\n",
    "# union operation\n",
    "print(k|m)\n",
    "print(m|k)\n",
    "print(\"this is by using method: \",k.union(m))\n",
    "# intersection operation\n",
    "print(k&m)\n",
    "print(m&k)\n",
    "print(\"this is by using method: \",k.intersection(m))\n",
    "# difference operation\n",
    "print(k-m)\n",
    "print(\"this is k-m :\",k.difference(m))\n",
    "print(m-k)\n",
    "print(\"this is m-k :\",m.difference(k))\n",
    "# symmetric difference\n",
    "print(k^m)\n",
    "print(m^k)\n",
    "print(\"this is by using method: \",k.symmetric_difference(m))"
   ]
  },
  {
   "cell_type": "markdown",
   "metadata": {},
   "source": [
    "## set methods"
   ]
  },
  {
   "cell_type": "code",
   "execution_count": 115,
   "metadata": {
    "collapsed": true
   },
   "outputs": [
    {
     "name": "stdout",
     "output_type": "stream",
     "text": [
      "['__and__', '__class__', '__contains__', '__delattr__', '__dir__', '__doc__', '__eq__', '__format__', '__ge__', '__getattribute__', '__gt__', '__hash__', '__iand__', '__init__', '__init_subclass__', '__ior__', '__isub__', '__iter__', '__ixor__', '__le__', '__len__', '__lt__', '__ne__', '__new__', '__or__', '__rand__', '__reduce__', '__reduce_ex__', '__repr__', '__ror__', '__rsub__', '__rxor__', '__setattr__', '__sizeof__', '__str__', '__sub__', '__subclasshook__', '__xor__', 'add', 'clear', 'copy', 'difference', 'difference_update', 'discard', 'intersection', 'intersection_update', 'isdisjoint', 'issubset', 'issuperset', 'pop', 'remove', 'symmetric_difference', 'symmetric_difference_update', 'union', 'update']\n"
     ]
    }
   ],
   "source": [
    "print(dir(set))"
   ]
  },
  {
   "cell_type": "code",
   "execution_count": null,
   "metadata": {},
   "outputs": [],
   "source": []
  }
 ],
 "metadata": {
  "kernelspec": {
   "display_name": "Python 3",
   "language": "python",
   "name": "python3"
  },
  "language_info": {
   "codemirror_mode": {
    "name": "ipython",
    "version": 3
   },
   "file_extension": ".py",
   "mimetype": "text/x-python",
   "name": "python",
   "nbconvert_exporter": "python",
   "pygments_lexer": "ipython3",
   "version": "3.7.6"
  }
 },
 "nbformat": 4,
 "nbformat_minor": 4
}
